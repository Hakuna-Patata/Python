{
 "cells": [
  {
   "cell_type": "markdown",
   "metadata": {
    "tags": [],
    "toc-hr-collapsed": true
   },
   "source": [
    "<a id=\"_home\"></a>\n",
    "\n",
    "# <span style=\"color:#bcff8f\">Python Notes</span>\n",
    "\n",
    "<span style=\"color:#858585\"><b><u>Developer</u></b>:  Patrick Weatherford</span><br><br>\n",
    "\n",
    "\n",
    "<!-- COLORS\n",
    "# Green:          <span style=\"color:#bcff8f\"></span>\n",
    "## Purple:        <span style=\"color:#c58fff\"></span>\n",
    "### White:        <span style=\"color:white\"></span> \n",
    "#### Grey:        <span style=\"color:#858585\"></span>\n",
    "Hyperlink:        <span style=\"color:#6185c9\"></span>\n",
    "Home navigation:  [<span style=\"color:#6185c9;font-size:10px\">(*Home*)</span>](#_home)\n",
    "dotted line:      <hr style=\"border:dotted 1px\">\n",
    "-->\n",
    "\n",
    "***\n",
    "\n",
    "# <span style=\"color:#bcff8f\">Table of Contents</span>"
   ]
  },
  {
   "cell_type": "markdown",
   "metadata": {
    "tags": [],
    "toc-hr-collapsed": true
   },
   "source": [
    "<a id=\"_basics2\"></a>\n",
    "- ### [<span style=\"color:#c58fff;font-size:18px\">Basics</span>](#_basics)\n",
    "    - #### [<span style=\"color:white;font-size:14px\">Variable Assignment</span>](#_variable_assignment)\n",
    "    - #### [<span style=\"color:white;font-size:14px\">Input Function</span>](#_input_function)\n",
    "    - #### [<span style=\"color:white;font-size:14px\">F-Strings</span>](#_f-strings)\n",
    "    - #### [<span style=\"color:white;font-size:14px\">Operators</span>](#_operators)\n",
    "    - #### [<span style=\"color:white;font-size:14px\">Change Data Type</span>](#_change_data_type)\n",
    "    - #### [<span style=\"color:white;font-size:14px\">Dates & Times</span>](#_dates_&_times)\n",
    "        - ##### [<span style=\"color:#858585;font-size:13px\">Date from Parts</span>](#_date_from_parts)\n",
    "        - ##### [<span style=\"color:#858585;font-size:13px\">String to Date</span>](#_string_to_date)\n",
    "        - ##### [<span style=\"color:#858585;font-size:13px\">Date to String</span>](#_date_to_string)\n",
    "        - ##### [<span style=\"color:#858585;font-size:13px\">Time Between Dates</span>](#_time_between_dates)\n",
    "    - #### [<span style=\"color:white;font-size:14px\">if, elif, else</span>](#_if,_elif,_else)\n",
    "    - #### [<span style=\"color:white;font-size:14px\">Help Functions</span>](#_help_functions)\n",
    "        - ##### [<span style=\"color:#858585;font-size:13px\">dir()</span>](#_dir())\n",
    "        - ##### [<span style=\"color:#858585;font-size:13px\">help()</span>](#_help())"
   ]
  },
  {
   "cell_type": "markdown",
   "metadata": {
    "tags": [],
    "toc-hr-collapsed": true
   },
   "source": [
    "<a id=\"_loops2\"></a>\n",
    "- ### [<span style=\"color:#c58fff;font-size:18px\">Loops</span>](#_loops)\n",
    "    - #### [<span style=\"color:white;font-size:14px\">For Loop</span>](#_for_loop)\n",
    "    - #### [<span style=\"color:white;font-size:14px\">While Loop</span>](#_while_loop)\n",
    "    - #### [<span style=\"color:white;font-size:14px\">Nested Loop</span>](#_nested_loop)\n",
    "    - #### [<span style=\"color:white;font-size:14px\">List Comprehension</span>](#_list_comprehension)\n",
    "    - #### [<span style=\"color:white;font-size:14px\">Enumerate</span>](#_enumerate)"
   ]
  },
  {
   "cell_type": "markdown",
   "metadata": {
    "tags": [],
    "toc-hr-collapsed": true
   },
   "source": [
    "<a id=\"_functions2\"></a>\n",
    "- ### [<span style=\"color:#c58fff;font-size:18px\">Functions</span>](#_functions)\n",
    "    - #### [<span style=\"color:white\">Creating Functions</span>](#_creating_functions)\n",
    "        - ##### [<span style=\"color:#858585;font-size:13px\">Required Parameter</span>](#_required_parameter)\n",
    "        - ##### [<span style=\"color:#858585;font-size:13px\">Optional Default Parameter</span>](#_optional_default_parameter)\n",
    "        - ##### [<span style=\"color:#858585;font-size:13px\">**kwargs</span>](#_**kwargs)\n",
    "        - ##### [<span style=\"color:#858585;font-size:13px\">*args</span>](#_*args)\n",
    "    - #### [<span style=\"color:white\">if \\_\\_name__ == \\\"\\_\\_main__\\\"</span>](#_if__name__=__main__)"
   ]
  },
  {
   "cell_type": "markdown",
   "metadata": {
    "tags": [],
    "toc-hr-collapsed": true
   },
   "source": [
    "<a id=\"_lists2\"></a>\n",
    "- ### [<span style=\"color:#c58fff;font-size:18px\">Lists</span>](#_lists)\n",
    "    - #### [<span style=\"color:white;font-size:14px\">Creating Lists</span>](#_creating_lists)\n",
    "    - #### [<span style=\"color:white;font-size:14px\">Accessing List Elements</span>](#_accessing_list_elements)\n",
    "    - #### [<span style=\"color:white;font-size:14px\">Modifying List</span>](#_modifying_list)\n",
    "        - ##### [<span style=\"color:#858585;font-size:13px\">Adding Element</span>](#_adding_list_element)\n",
    "        - ##### [<span style=\"color:#858585;font-size:13px\">Removing Element</span>](#_removing_list_element)\n",
    "        - ##### [<span style=\"color:#858585;font-size:13px\">Modifying Element</span>](#_modifying_list_element)\n",
    "        - ##### [<span style=\"color:#858585;font-size:13px\">Deleting List</span>](#_deleting_list)\n",
    "    - #### [<span style=\"color:white;font-size:14px\">Analyzing List</span>](#_analyzing_list)\n",
    "        - ##### [<span style=\"color:#858585;font-size:13px\">Length of List</span>](#_length_of_list)\n",
    "        - ##### [<span style=\"color:#858585;font-size:13px\">Sum of List</span>](#_sum_of_list)\n",
    "        - ##### [<span style=\"color:#858585;font-size:13px\">Looping Through List</span>](#_looping_through_list)"
   ]
  },
  {
   "cell_type": "markdown",
   "metadata": {
    "tags": [],
    "toc-hr-collapsed": true
   },
   "source": [
    "<a id=\"_tuples2\"></a>\n",
    "- ### [<span style=\"color:#c58fff;font-size:18px\">Tuples</span>](#_tuples)\n",
    "    - #### [<span style=\"color:white;font-size:14px\">Creating Tuples</span>](#_creating_tuples)\n",
    "    - #### [<span style=\"color:white;font-size:14px\">Accessing Tuple Elements</span>](#_accessing_tuple_elements)\n",
    "    - #### [<span style=\"color:white;font-size:14px\">Modifying Tuple</span>](#_modifying_tuple)\n",
    "        - ##### [<span style=\"color:#858585;font-size:13px\">Adding Element</span>](#_adding_tuple_element)\n",
    "        - ##### [<span style=\"color:#858585;font-size:13px\">Removing Element</span>](#_removing_tuple_element)\n",
    "        - ##### [<span style=\"color:#858585;font-size:13px\">Modifying Element</span>](#_modifying_tuple_element)\n",
    "        - ##### [<span style=\"color:#858585;font-size:13px\">Deleting Tuple</span>](#_deleting_tuple)\n",
    "    - #### [<span style=\"color:white;font-size:14px\">Analyzing Tuple</span>](#_analyzing_tuple)\n",
    "        - ##### [<span style=\"color:#858585;font-size:13px\">Length of Tuple</span>](#_length_of_tuple)\n",
    "        - ##### [<span style=\"color:#858585;font-size:13px\">Looping Through Tuple</span>](#_looping_through_tuple)"
   ]
  },
  {
   "cell_type": "markdown",
   "metadata": {
    "tags": [],
    "toc-hr-collapsed": true
   },
   "source": [
    "<a id=\"_sets2\"></a>\n",
    "- ### [<span style=\"color:#c58fff;font-size:18px\">Sets</span>](#_sets)\n",
    "    - #### [<span style=\"color:white;font-size:14px\">Creating Sets</span>](#_creating_sets)\n",
    "    - #### [<span style=\"color:white;font-size:14px\">Accessing Set Elements</span>](#_accessing_set_elements)\n",
    "    - #### [<span style=\"color:white;font-size:14px\">Modifying Set</span>](#_modifying_set)\n",
    "        - ##### [<span style=\"color:#858585;font-size:13px\">Adding Element</span>](#_adding_set_element)\n",
    "        - ##### [<span style=\"color:#858585;font-size:13px\">Removing Element</span>](#_removing_set_element)\n",
    "        - ##### [<span style=\"color:#858585;font-size:13px\">Modifying Element</span>](#_modifying_set_element)\n",
    "        - ##### [<span style=\"color:#858585;font-size:13px\">Deleting Set</span>](#_deleting_set)\n",
    "    - #### [<span style=\"color:white;font-size:14px\">Analyzing Set</span>](#_analyzing_set)\n",
    "        - ##### [<span style=\"color:#858585;font-size:13px\">Length of Set</span>](#_length_of_set)\n",
    "        - ##### [<span style=\"color:#858585;font-size:13px\">Sum of Set</span>](#_sum_of_set)\n",
    "        - ##### [<span style=\"color:#858585;font-size:13px\">Similarities Between Sets</span>](#_similarities_between_sets)\n",
    "        - ##### [<span style=\"color:#858585;font-size:13px\">Unique Values Between Sets</span>](#_unique_values_between_sets)\n",
    "        - ##### [<span style=\"color:#858585;font-size:13px\">Unique Differences Between Sets</span>](#_unique_differences_between_sets)\n",
    "        - ##### [<span style=\"color:#858585;font-size:13px\">Subset vs. Superset</span>](#_subsets_vs_supersets)"
   ]
  },
  {
   "cell_type": "markdown",
   "metadata": {
    "tags": [],
    "toc-hr-collapsed": true
   },
   "source": [
    "<a id=\"_dictionaries2\"></a>\n",
    "- ### [<span style=\"color:#c58fff;font-size:18px\">Dictionaries</span>](#_dictionaries)\n",
    "    - #### [<span style=\"color:white;font-size:14px\">Creating Dictionaries</span>](#_creating_dictionaries)\n",
    "    - #### [<span style=\"color:white;font-size:14px\">Accessing Dictionary Elements</span>](#_accessing_dictionary_elements)\n",
    "        - ##### [<span style=\"color:#858585;font-size:13px\">Accessing Based on Key</span>](#_accessing_based_on_key)\n",
    "        - ##### [<span style=\"color:#858585;font-size:13px\">Accessing Based on Value</span>](#_accessing_based_on_value)\n",
    "    - #### [<span style=\"color:white;font-size:14px\">Modifying Dictionary</span>](#_modifying_dictionary)\n",
    "        - ##### [<span style=\"color:#858585;font-size:13px\">Adding Element</span>](#_adding_dictionary_element)\n",
    "        - ##### [<span style=\"color:#858585;font-size:13px\">Removing Element</span>](#_removing_dictionary_element)\n",
    "        - ##### [<span style=\"color:#858585;font-size:13px\">Modifying Element</span>](#_modifying_dictionary_element)\n",
    "        - ##### [<span style=\"color:#858585;font-size:13px\">Deleting Dictionary</span>](#_deleting_dictionary)\n",
    "    - #### [<span style=\"color:white;font-size:14px\">Analyzing Dictionary</span>](#_analyzing_dictionary)\n",
    "        - ##### [<span style=\"color:#858585;font-size:13px\">Length of Dictionary</span>](#_length_of_dictionary)\n",
    "        - ##### [<span style=\"color:#858585;font-size:13px\">Sum of Dictionary</span>](#_sum_of_dictionary)\n",
    "        - ##### [<span style=\"color:#858585;font-size:13px\">Looping Through Dictionary</span>](#_looping_through_dictionary)"
   ]
  },
  {
   "cell_type": "markdown",
   "metadata": {
    "tags": [],
    "toc-hr-collapsed": true
   },
   "source": [
    "<a id=\"_working_with_files2\"></a>\n",
    "- ### [<span style=\"color:#c58fff;font-size:18px\">Working with Files</span>](#_working_with_files)\n",
    "    - #### [<span style=\"color:white;font-size:14px\">Text Files</span>](#_text_files)\n",
    "        - ##### [<span style=\"color:#858585;font-size:13px\">Reading Text File</span>](#_reading_text_file)\n",
    "        - ##### [<span style=\"color:#858585;font-size:13px\">Creating New Text File</span>](#_creating_new_text_file)\n",
    "        - ##### [<span style=\"color:#858585;font-size:13px\">Modifying Text File</span>](#_modifying_text_file)\n",
    "    - #### [<span style=\"color:white;font-size:14px\">Excel Files</span>](#_text_files)\n",
    "        - ##### [<span style=\"color:#858585;font-size:13px\">Reading Excel File</span>](#_reading_excel_file)\n",
    "        - ##### [<span style=\"color:#858585;font-size:13px\">Modifying Excel File</span>](#_modifying_excel_file)"
   ]
  },
  {
   "cell_type": "markdown",
   "metadata": {
    "tags": [],
    "toc-hr-collapsed": true
   },
   "source": [
    "<a id=\"_exception_handling2\"></a>\n",
    "- ### [<span style=\"color:#c58fff;font-size:18px\">Exception Hanling</span>](#_exception_handling)\n",
    "    - #### [<span style=\"color:white;font-size:14px\">try, then, else, finally</span>](#_try_then_else_finally)"
   ]
  },
  {
   "cell_type": "markdown",
   "metadata": {
    "tags": [],
    "toc-hr-collapsed": true
   },
   "source": [
    "<a id=\"_classes_2\"></a>\n",
    "- ### [<span style=\"color:#c58fff;font-size:18px\">Classes</span>](#_classes_)\n",
    "    - #### [<span style=\"color:white;font-size:14px\">Creating a Class</span>](#_creating_a_class)\n",
    "    - #### [<span style=\"color:white;font-size:14px\">Class Instance Totals</span>](#_class_instance_totals)\n",
    "    - #### [<span style=\"color:white;font-size:14px\">Regular Methods</span>](#_regular_methods)\n",
    "    - #### [<span style=\"color:white;font-size:14px\">Class Methods</span>](#_class_methods)\n",
    "    - #### [<span style=\"color:white;font-size:14px\">Static Methods</span>](#_static_methods)\n",
    "    - #### [<span style=\"color:white;font-size:14px\">Property Decorators</span>](#_property_decorators)\n",
    "        - ##### [<span style=\"color:#858585;font-size:13px\">@property</span>](#_@property)\n",
    "        - ##### [<span style=\"color:#858585;font-size:13px\">@property.setter</span>](#_@property.setter)\n",
    "        - ##### [<span style=\"color:#858585;font-size:13px\">@property.deleter</span>](#_@property.deleter)\n",
    "    - #### [<span style=\"color:white;font-size:14px\">Inheritance & Subclasses</span>](#_inheritance_&_subclasses)\n",
    "    - #### [<span style=\"color:white;font-size:14px\">Method Resolution Order (MRO)</span>](#_method_resolution_order)"
   ]
  },
  {
   "cell_type": "markdown",
   "metadata": {},
   "source": [
    "<br>\n",
    "\n",
    "___\n",
    "___\n",
    "\n",
    "<br>"
   ]
  },
  {
   "cell_type": "markdown",
   "metadata": {},
   "source": [
    "<a id='_basics'></a>\n",
    "\n",
    "# <span style=\"color:#bcff8f\">Basics</span> [<span style=\"color:#6185c9;font-size:10px\">(*Home*)</span>](#_basics2)\n",
    "\n",
    "<hr style=\"border:dotted 1px\">"
   ]
  },
  {
   "cell_type": "markdown",
   "metadata": {
    "toc-hr-collapsed": true
   },
   "source": [
    "<a id=\"_variable_assignment\"></a>\n",
    "<br>\n",
    "\n",
    "### <span style=\"color:#c58fff\">Variable Assignment</span> [<span style=\"color:#6185c9;font-size:10px\">(*Home*)</span>](#_basics2)"
   ]
  },
  {
   "cell_type": "code",
   "execution_count": 41,
   "metadata": {},
   "outputs": [
    {
     "name": "stdout",
     "output_type": "stream",
     "text": [
      "Hello world! \n",
      "\n",
      "10 yo\n"
     ]
    }
   ],
   "source": [
    "var1 = 'Hello world!'\n",
    "var2 = 10\n",
    "var3 = 'yo'\n",
    "\n",
    "print(var1,'\\n') # '\\' is an special/escape character for string literals\n",
    "print(var2, var3)"
   ]
  },
  {
   "cell_type": "markdown",
   "metadata": {},
   "source": [
    "<hr style=\"border:dotted 1px\">\n",
    "\n",
    "<br>\n",
    "<a id=\"_input_function\"></a>\n",
    "\n",
    "### <span style=\"color:#c58fff\">Input Function</span> [<span style=\"color:#6185c9;font-size:10px\">(*Home*)</span>](#_basics2)"
   ]
  },
  {
   "cell_type": "code",
   "execution_count": 13,
   "metadata": {},
   "outputs": [
    {
     "name": "stdin",
     "output_type": "stream",
     "text": [
      "What is your name?  Patrick\n"
     ]
    },
    {
     "name": "stdout",
     "output_type": "stream",
     "text": [
      "Hello Patrick!\n"
     ]
    }
   ],
   "source": [
    "name = input('What is your name? ')\n",
    "\n",
    "print(f'Hello {name}!')"
   ]
  },
  {
   "cell_type": "markdown",
   "metadata": {},
   "source": [
    "<hr style=\"border:dotted 1px\">\n",
    "\n",
    "<a id=\"_f-strings\"></a>\n",
    "<br>\n",
    "\n",
    "### <span style=\"color:#c58fff\">F-Strings</span> [<span style=\"color:#6185c9;font-size:10px\">(*Home*)</span>](#_basics2)\n",
    "      \n",
    "Superior method for formatting a string literal\n",
    "\n",
    "<span style=\"font-size:11px\">\n",
    "    <ul>\n",
    "        <li>Faster than .format()\n",
    "        <li>Can directly insert expressions\n",
    "        <li>Better readability\n",
    "    </ul>\n",
    "</span>"
   ]
  },
  {
   "cell_type": "code",
   "execution_count": 8,
   "metadata": {},
   "outputs": [
    {
     "name": "stdout",
     "output_type": "stream",
     "text": [
      "Hello world, my name is Patrick.\n",
      "I'm 32 years old.\n",
      "\n",
      "Hello world, my name is Patrick.\n",
      "I'm 32 years old.\n"
     ]
    }
   ],
   "source": [
    "age = 32\n",
    "name = 'Patrick' \n",
    "nl = '\\n'\n",
    "\n",
    "# Can you single or double quotes\n",
    "print(f'Hello world, my name is {name}.{nl}I\\'m {age} years old.{nl}')\n",
    "\n",
    "# Using 3 single or double quotes recognizes carriage returns in code\n",
    "print(f'''Hello world, my name is {name}.\n",
    "I\\'m {age} years old.''')"
   ]
  },
  {
   "cell_type": "markdown",
   "metadata": {},
   "source": [
    "<hr style=\"border:dotted 1px\">\n",
    "\n",
    "<a id=\"_operators\"></a>\n",
    "<br>\n",
    "\n",
    "### <span style=\"color:#c58fff\">Operators</span> [<span style=\"color:#6185c9;font-size:10px\">(*Home*)</span>](#_basics2)"
   ]
  },
  {
   "cell_type": "code",
   "execution_count": 12,
   "metadata": {},
   "outputs": [
    {
     "name": "stdout",
     "output_type": "stream",
     "text": [
      "11\n",
      "9\n",
      "3.3333333333333335\n",
      "3\n",
      "1\n",
      "100\n",
      "12.0\n"
     ]
    }
   ],
   "source": [
    "import math\n",
    "\n",
    "x=10\n",
    "\n",
    "print(x+1)  # addition\n",
    "print(x-1)  # subtraction\n",
    "print(x/3)  # division\n",
    "print(x//3)  # floor division\n",
    "print(x%3)  # modulo\n",
    "print(x**2)  # exponentiation\n",
    "print(math.sqrt(144))  # square root with math module"
   ]
  },
  {
   "cell_type": "markdown",
   "metadata": {},
   "source": [
    "<hr style=\"border:dotted 1px\">\n",
    "\n",
    "<a id=\"_change_data_type\"></a>\n",
    "<br>\n",
    "\n",
    "### <span style=\"color:#c58fff\">Change Data Type</span> [<span style=\"color:#6185c9;font-size:10px\">(*Home*)</span>](#_basics2)"
   ]
  },
  {
   "cell_type": "code",
   "execution_count": 17,
   "metadata": {},
   "outputs": [
    {
     "name": "stdout",
     "output_type": "stream",
     "text": [
      "str_x: <class 'str'>\n",
      "int_x: <class 'int'>\n",
      "float_x: <class 'float'>\n"
     ]
    }
   ],
   "source": [
    "x = 10\n",
    "\n",
    "str_x = str(x)  # convert to string\n",
    "int_x = int(x)  # convert to integer\n",
    "float_x = float(x)  # convert to float\n",
    "\n",
    "print(f'''str_x: {type(str_x)}\n",
    "int_x: {type(int_x)}\n",
    "float_x: {type(float_x)}''')"
   ]
  },
  {
   "cell_type": "markdown",
   "metadata": {},
   "source": [
    "<hr style=\"border:dotted 1px\">\n",
    "\n",
    "<a id=\"_dates_&_times\"></a>\n",
    "<br>\n",
    "\n",
    "### <span style=\"color:#c58fff\">Dates & Times</span> [<span style=\"color:#6185c9;font-size:10px\">(*Home*)</span>](#_basics2)\n",
    "\n",
    "<b>Format Codes</b><br>\n",
    "<ul>\n",
    "    <li>Year\n",
    "        <ul>\n",
    "            <li>%y - Year without century as a zero-padded decimal number (00, 01, ..., 99)<br>\n",
    "            <li>%Y - Year with century as a decimal number (0001, 0002, ..., 2013, 2014)<br>\n",
    "        </ul>\n",
    "    <li>Month\n",
    "        <ul>\n",
    "            <li>%b - Month as locale's abbv. name (Jan, Feb, ..., Dec)<br>\n",
    "            <li>%B - Month as locale's full name (January, February, ..., December)<br>\n",
    "            <li>%m - Month as a zero-padded decimal number (01, 02, ..., 12)<br>\n",
    "        </ul>\n",
    "    <li>Week\n",
    "        <ul>\n",
    "            <li>%a - Weekday as locale's abbv. name (Sun, Mon, ...)<br>\n",
    "            <li>%A - Weekday as locale's full name (Sunday, Monday, ...)<br>\n",
    "            <li>%w - Weekday as a decimal number, 0-Sun : 6-Sat<br>\n",
    "            <li>%U - Week number of the year (Sunday as the first day of the week) (All days in a new year preceding first Sunday are in week 0) (00, 01, ..., 53)<br>\n",
    "            <li>%W - Week number of the year (Monday as the first day of the week) (All days in a new year preceding first Monday are in week 0) (00, 01, ..., 53)<br>\n",
    "        </ul>\n",
    "    <li>Day/Time\n",
    "        <ul>\n",
    "            <li>%j - Day of the year as a zero-padded decimal number (001, 002, ..., 366)<br>\n",
    "            <li>%d - Day of the month as a zero-padded decimal (01, 02, ..., 31)<br>\n",
    "            <li>%c - Locale's appropriate date and time representation (Tue Aug 16 21:30:00 1988)<br>\n",
    "            <li>%x - Locale's appropriate date representation (08/16/1988)<br>\n",
    "            <li>%X - Locale's appropriate time representation (21:30:00)<br>\n",
    "        </ul>\n",
    "    <li>Hour\n",
    "        <ul>\n",
    "            <li>%H - Hour (24-hour clock) as a zero-padded decimal number (01, 02, ..., 23)<br>\n",
    "            <li>%I - Hour (12-hour clock) as a zero-padded decimal number (01, 02, ..., 12)<br>\n",
    "            <li>%p - Locale's equivalent of either AM or PM<br>\n",
    "            <li>%z - UTC offset in the form +-HHMM{SS{.ffffff}} (empty string if the object is naive) (empty), +0000, -0400, +1030<br>\n",
    "            <li>%Z - Time zone name (epty string if the object is naive) (empty), UTC, GMT<br>\n",
    "        </ul>\n",
    "    <li>Minute\n",
    "        <ul>\n",
    "            <li>%M - Minute as a zero-padded decimal number (00, 01, ..., 59)<br>\n",
    "        </ul>\n",
    "    <li>Second/Micro\n",
    "        <ul>\n",
    "            <li>%S - Second as a zero-padded decimal number (00, 01, ..., 59)<br>\n",
    "            <li>%f - Microsecond as a decimal number, zero-padded to 6 digits (000000, 000001, ..., 999999)<br>\n",
    "        </ul>\n",
    "</ul>\n",
    "\n"
   ]
  },
  {
   "cell_type": "markdown",
   "metadata": {},
   "source": [
    "\n",
    "<a id=\"_date_from_parts\"></a>\n",
    "\n",
    "#### <span style=\"color:white\">Date From Parts</span> [<span style=\"color:#6185c9;font-size:10px\">(*Home*)</span>](#_basics2)"
   ]
  },
  {
   "cell_type": "code",
   "execution_count": 74,
   "metadata": {},
   "outputs": [
    {
     "name": "stdout",
     "output_type": "stream",
     "text": [
      "2021-12-15 13:55:21.000005\n",
      "2021\n",
      "12\n",
      "15\n",
      "13\n",
      "55\n",
      "21\n",
      "5\n"
     ]
    }
   ],
   "source": [
    "import datetime\n",
    "\n",
    "# date from parts using .time() method\n",
    "date_var = datetime.datetime(2021, 12, 15, 13, 55, 21, 5)  # (hour, min, sec, microsec)\n",
    "\n",
    "print(date_var)\n",
    "print(date_var.year)  # Get year part of date object\n",
    "print(date_var.month)  # Get month part of date object\n",
    "print(date_var.day)  # Get day part of date object\n",
    "print(date_var.hour)  # Get hour part of date object\n",
    "print(date_var.minute)  # Get minute part of date object\n",
    "print(date_var.second)  # Get second part of date object\n",
    "print(date_var.microsecond)  # Get microsecond part of date object"
   ]
  },
  {
   "cell_type": "markdown",
   "metadata": {
    "tags": []
   },
   "source": [
    "\n",
    "<a id=\"_string_to_date\"></a>\n",
    "\n",
    "#### <span style=\"color:white\">String to Date</span> [<span style=\"color:#6185c9;font-size:10px\">(*Home*)</span>](#_basics2)"
   ]
  },
  {
   "cell_type": "code",
   "execution_count": 66,
   "metadata": {},
   "outputs": [
    {
     "name": "stdout",
     "output_type": "stream",
     "text": [
      "2021-12-14 23:59:00  , type: <class 'datetime.datetime'>\n"
     ]
    }
   ],
   "source": [
    "import datetime as dt\n",
    "\n",
    "dttm_str = '12/14/2021 11:59 PM'\n",
    "\n",
    "dttm = dt.datetime.strptime(dttm_str, '%m/%d/%Y %I:%M %p')\n",
    "\n",
    "print(f\"{dttm}  , type: {type(dttm)}\")"
   ]
  },
  {
   "cell_type": "markdown",
   "metadata": {},
   "source": [
    "\n",
    "<a id=\"_date_to_string\"></a>\n",
    "\n",
    "#### <span style=\"color:white\">Date to String</span> [<span style=\"color:#6185c9;font-size:10px\">(*Home*)</span>](#_basics2)"
   ]
  },
  {
   "cell_type": "code",
   "execution_count": 69,
   "metadata": {},
   "outputs": [
    {
     "name": "stdout",
     "output_type": "stream",
     "text": [
      "12/15/2021 12:15 AM  , type: <class 'str'>\n"
     ]
    }
   ],
   "source": [
    "import datetime as dt\n",
    "\n",
    "today = dt.datetime.now()\n",
    "\n",
    "today_str = dt.datetime.strftime(today, '%m/%d/%Y %I:%M %p')\n",
    "\n",
    "print(f\"{today_str}  , type: {type(today_str)}\")"
   ]
  },
  {
   "cell_type": "markdown",
   "metadata": {},
   "source": [
    "\n",
    "<a id=\"_time_between_dates\"></a>\n",
    "\n",
    "#### <span style=\"color:white\">Time Between Dates</span> [<span style=\"color:#6185c9;font-size:10px\">(*Home*)</span>](#_basics2)"
   ]
  },
  {
   "cell_type": "code",
   "execution_count": 93,
   "metadata": {},
   "outputs": [
    {
     "name": "stdout",
     "output_type": "stream",
     "text": [
      "11745\n",
      "83548\n",
      "Hello I'm Patrick and I'm 32 years, 1 months, 3 weeks, 26 days, and 28 seconds old\n"
     ]
    }
   ],
   "source": [
    "import datetime as dt\n",
    "from dateutil.relativedelta import relativedelta\n",
    "\n",
    "dob = dt.datetime.strptime('10/18/1989 1:23 AM', '%m/%d/%Y %I:%M %p')\n",
    "now = dt.datetime.now()\n",
    "\n",
    "time_delta = now - dob\n",
    "\n",
    "# Using datetime module\n",
    "print(time_delta.days)\n",
    "print(time_delta.seconds)\n",
    "\n",
    "\n",
    "# Using dateutil to get exact age\n",
    "rd = relativedelta(now, dob)\n",
    "\n",
    "print(f\"Hello I'm Patrick and I'm {rd.years} years, {rd.months} months, {rd.weeks} weeks, {rd.days} days, and {rd.seconds} seconds old\")"
   ]
  },
  {
   "cell_type": "code",
   "execution_count": 87,
   "metadata": {},
   "outputs": [
    {
     "name": "stdout",
     "output_type": "stream",
     "text": [
      "Help on relativedelta in module dateutil.relativedelta object:\n",
      "\n",
      "class relativedelta(builtins.object)\n",
      " |  relativedelta(dt1=None, dt2=None, years=0, months=0, days=0, leapdays=0, weeks=0, hours=0, minutes=0, seconds=0, microseconds=0, year=None, month=None, day=None, weekday=None, yearday=None, nlyearday=None, hour=None, minute=None, second=None, microsecond=None)\n",
      " |  \n",
      " |  The relativedelta type is designed to be applied to an existing datetime and\n",
      " |  can replace specific components of that datetime, or represents an interval\n",
      " |  of time.\n",
      " |  \n",
      " |  It is based on the specification of the excellent work done by M.-A. Lemburg\n",
      " |  in his\n",
      " |  `mx.DateTime <https://www.egenix.com/products/python/mxBase/mxDateTime/>`_ extension.\n",
      " |  However, notice that this type does *NOT* implement the same algorithm as\n",
      " |  his work. Do *NOT* expect it to behave like mx.DateTime's counterpart.\n",
      " |  \n",
      " |  There are two different ways to build a relativedelta instance. The\n",
      " |  first one is passing it two date/datetime classes::\n",
      " |  \n",
      " |      relativedelta(datetime1, datetime2)\n",
      " |  \n",
      " |  The second one is passing it any number of the following keyword arguments::\n",
      " |  \n",
      " |      relativedelta(arg1=x,arg2=y,arg3=z...)\n",
      " |  \n",
      " |      year, month, day, hour, minute, second, microsecond:\n",
      " |          Absolute information (argument is singular); adding or subtracting a\n",
      " |          relativedelta with absolute information does not perform an arithmetic\n",
      " |          operation, but rather REPLACES the corresponding value in the\n",
      " |          original datetime with the value(s) in relativedelta.\n",
      " |  \n",
      " |      years, months, weeks, days, hours, minutes, seconds, microseconds:\n",
      " |          Relative information, may be negative (argument is plural); adding\n",
      " |          or subtracting a relativedelta with relative information performs\n",
      " |          the corresponding arithmetic operation on the original datetime value\n",
      " |          with the information in the relativedelta.\n",
      " |  \n",
      " |      weekday: \n",
      " |          One of the weekday instances (MO, TU, etc) available in the\n",
      " |          relativedelta module. These instances may receive a parameter N,\n",
      " |          specifying the Nth weekday, which could be positive or negative\n",
      " |          (like MO(+1) or MO(-2)). Not specifying it is the same as specifying\n",
      " |          +1. You can also use an integer, where 0=MO. This argument is always\n",
      " |          relative e.g. if the calculated date is already Monday, using MO(1)\n",
      " |          or MO(-1) won't change the day. To effectively make it absolute, use\n",
      " |          it in combination with the day argument (e.g. day=1, MO(1) for first\n",
      " |          Monday of the month).\n",
      " |  \n",
      " |      leapdays:\n",
      " |          Will add given days to the date found, if year is a leap\n",
      " |          year, and the date found is post 28 of february.\n",
      " |  \n",
      " |      yearday, nlyearday:\n",
      " |          Set the yearday or the non-leap year day (jump leap days).\n",
      " |          These are converted to day/month/leapdays information.\n",
      " |  \n",
      " |  There are relative and absolute forms of the keyword\n",
      " |  arguments. The plural is relative, and the singular is\n",
      " |  absolute. For each argument in the order below, the absolute form\n",
      " |  is applied first (by setting each attribute to that value) and\n",
      " |  then the relative form (by adding the value to the attribute).\n",
      " |  \n",
      " |  The order of attributes considered when this relativedelta is\n",
      " |  added to a datetime is:\n",
      " |  \n",
      " |  1. Year\n",
      " |  2. Month\n",
      " |  3. Day\n",
      " |  4. Hours\n",
      " |  5. Minutes\n",
      " |  6. Seconds\n",
      " |  7. Microseconds\n",
      " |  \n",
      " |  Finally, weekday is applied, using the rule described above.\n",
      " |  \n",
      " |  For example\n",
      " |  \n",
      " |  >>> from datetime import datetime\n",
      " |  >>> from dateutil.relativedelta import relativedelta, MO\n",
      " |  >>> dt = datetime(2018, 4, 9, 13, 37, 0)\n",
      " |  >>> delta = relativedelta(hours=25, day=1, weekday=MO(1))\n",
      " |  >>> dt + delta\n",
      " |  datetime.datetime(2018, 4, 2, 14, 37)\n",
      " |  \n",
      " |  First, the day is set to 1 (the first of the month), then 25 hours\n",
      " |  are added, to get to the 2nd day and 14th hour, finally the\n",
      " |  weekday is applied, but since the 2nd is already a Monday there is\n",
      " |  no effect.\n",
      " |  \n",
      " |  Methods defined here:\n",
      " |  \n",
      " |  __abs__(self)\n",
      " |  \n",
      " |  __add__(self, other)\n",
      " |  \n",
      " |  __bool__(self)\n",
      " |  \n",
      " |  __div__(self, other)\n",
      " |  \n",
      " |  __eq__(self, other)\n",
      " |      Return self==value.\n",
      " |  \n",
      " |  __hash__(self)\n",
      " |      Return hash(self).\n",
      " |  \n",
      " |  __init__(self, dt1=None, dt2=None, years=0, months=0, days=0, leapdays=0, weeks=0, hours=0, minutes=0, seconds=0, microseconds=0, year=None, month=None, day=None, weekday=None, yearday=None, nlyearday=None, hour=None, minute=None, second=None, microsecond=None)\n",
      " |      Initialize self.  See help(type(self)) for accurate signature.\n",
      " |  \n",
      " |  __mul__(self, other)\n",
      " |  \n",
      " |  __ne__(self, other)\n",
      " |      Return self!=value.\n",
      " |  \n",
      " |  __neg__(self)\n",
      " |  \n",
      " |  __nonzero__ = __bool__(self)\n",
      " |  \n",
      " |  __radd__(self, other)\n",
      " |  \n",
      " |  __repr__(self)\n",
      " |      Return repr(self).\n",
      " |  \n",
      " |  __rmul__ = __mul__(self, other)\n",
      " |  \n",
      " |  __rsub__(self, other)\n",
      " |  \n",
      " |  __sub__(self, other)\n",
      " |  \n",
      " |  __truediv__ = __div__(self, other)\n",
      " |  \n",
      " |  normalized(self)\n",
      " |      Return a version of this object represented entirely using integer\n",
      " |      values for the relative attributes.\n",
      " |      \n",
      " |      >>> relativedelta(days=1.5, hours=2).normalized()\n",
      " |      relativedelta(days=+1, hours=+14)\n",
      " |      \n",
      " |      :return:\n",
      " |          Returns a :class:`dateutil.relativedelta.relativedelta` object.\n",
      " |  \n",
      " |  ----------------------------------------------------------------------\n",
      " |  Data descriptors defined here:\n",
      " |  \n",
      " |  __dict__\n",
      " |      dictionary for instance variables (if defined)\n",
      " |  \n",
      " |  __weakref__\n",
      " |      list of weak references to the object (if defined)\n",
      " |  \n",
      " |  weeks\n",
      "\n"
     ]
    }
   ],
   "source": [
    "help(relative_delta)"
   ]
  },
  {
   "cell_type": "markdown",
   "metadata": {},
   "source": [
    "<hr style=\"border:dotted 1px\">\n",
    "\n",
    "<a id=\"_if,_elif,_else\"></a>\n",
    "<br>\n",
    "\n",
    "### <span style=\"color:#c58fff\">if, elif, else</span> [<span style=\"color:#6185c9;font-size:10px\">(*Home*)</span>](#_basics2)\n",
    "\n",
    "- One '=' assigns value, two '==' checks equality\n",
    "- When evaluating if True, False, None use 'is' instead of '=='"
   ]
  },
  {
   "cell_type": "code",
   "execution_count": 23,
   "metadata": {},
   "outputs": [
    {
     "name": "stdout",
     "output_type": "stream",
     "text": [
      "x is equal to 10\n",
      "\n",
      "\n",
      "variable (no_val) has no value\n",
      "\n",
      "\n",
      "variable (false_val) is False\n"
     ]
    }
   ],
   "source": [
    "x = 10\n",
    "no_val = None\n",
    "false_val = False\n",
    "\n",
    "#################################\n",
    "\n",
    "if x==10:\n",
    "    print('x is equal to 10')\n",
    "elif x < 10:\n",
    "    print('x is less than 10')\n",
    "elif x > 10: \n",
    "    print('x is greater than 10')\n",
    "else:\n",
    "    print('unknown')\n",
    "    \n",
    "#################################\n",
    "print('\\n')\n",
    "#################################\n",
    "\n",
    "if no_val is not None:\n",
    "    print('variable has a value')\n",
    "else:\n",
    "    print('variable (no_val) has no value')\n",
    "    \n",
    "#################################\n",
    "print('\\n')\n",
    "#################################\n",
    "\n",
    "if false_val is False:\n",
    "    print('variable (false_val) is False')\n",
    "else:\n",
    "    print('variable (false_val) is True')"
   ]
  },
  {
   "cell_type": "markdown",
   "metadata": {},
   "source": [
    "<hr style=\"border:dotted 1px\">\n",
    "\n",
    "<a id=\"_help_functions\"></a>\n",
    "<br>\n",
    "\n",
    "### <span style=\"color:#c58fff\">Help Functions</span> [<span style=\"color:#6185c9;font-size:10px\">(*Home*)</span>](#_basics2)"
   ]
  },
  {
   "cell_type": "markdown",
   "metadata": {},
   "source": [
    "\n",
    "<a id=\"_dir()\"></a>\n",
    "\n",
    "#### <span style=\"color:white\">dir()</span> [<span style=\"color:#6185c9;font-size:10px\">(*Home*)</span>](#_basics2)\n",
    "\n",
    "Get list of properties and methods associated with an object."
   ]
  },
  {
   "cell_type": "code",
   "execution_count": 43,
   "metadata": {},
   "outputs": [
    {
     "data": {
      "text/plain": [
       "['__class__',\n",
       " '__contains__',\n",
       " '__delattr__',\n",
       " '__delitem__',\n",
       " '__dir__',\n",
       " '__doc__',\n",
       " '__eq__',\n",
       " '__format__',\n",
       " '__ge__',\n",
       " '__getattribute__',\n",
       " '__getitem__',\n",
       " '__gt__',\n",
       " '__hash__',\n",
       " '__init__',\n",
       " '__init_subclass__',\n",
       " '__iter__',\n",
       " '__le__',\n",
       " '__len__',\n",
       " '__lt__',\n",
       " '__ne__',\n",
       " '__new__',\n",
       " '__reduce__',\n",
       " '__reduce_ex__',\n",
       " '__repr__',\n",
       " '__reversed__',\n",
       " '__setattr__',\n",
       " '__setitem__',\n",
       " '__sizeof__',\n",
       " '__str__',\n",
       " '__subclasshook__',\n",
       " 'clear',\n",
       " 'copy',\n",
       " 'fromkeys',\n",
       " 'get',\n",
       " 'items',\n",
       " 'keys',\n",
       " 'pop',\n",
       " 'popitem',\n",
       " 'setdefault',\n",
       " 'update',\n",
       " 'values']"
      ]
     },
     "execution_count": 43,
     "metadata": {},
     "output_type": "execute_result"
    }
   ],
   "source": [
    "dict1 = {1:'a'}\n",
    "\n",
    "# Get list of properties and methods for an object\n",
    "dir(dict1)"
   ]
  },
  {
   "cell_type": "markdown",
   "metadata": {},
   "source": [
    "<br>\n",
    "<a id=\"_help()\"></a>\n",
    "\n",
    "#### <span style=\"color:white\">help()</span> [<span style=\"color:#6185c9;font-size:10px\">(*Home*)</span>](#_basics2)\n",
    "\n",
    "Get detailed list of properties and attributes of an object or particular property or method of an object."
   ]
  },
  {
   "cell_type": "code",
   "execution_count": 52,
   "metadata": {},
   "outputs": [
    {
     "name": "stdout",
     "output_type": "stream",
     "text": [
      "Help on built-in function items:\n",
      "\n",
      "items(...) method of builtins.dict instance\n",
      "    D.items() -> a set-like object providing a view on D's items\n",
      "\n",
      "\n",
      "~~~~~~~~~~~~~~~~~~~~~~~~~~~~~~~~~~~~~~~~~~~~~~~~~~~~~~~~~~~~\n",
      "\n",
      "Help on dict object:\n",
      "\n",
      "class dict(object)\n",
      " |  dict() -> new empty dictionary\n",
      " |  dict(mapping) -> new dictionary initialized from a mapping object's\n",
      " |      (key, value) pairs\n",
      " |  dict(iterable) -> new dictionary initialized as if via:\n",
      " |      d = {}\n",
      " |      for k, v in iterable:\n",
      " |          d[k] = v\n",
      " |  dict(**kwargs) -> new dictionary initialized with the name=value pairs\n",
      " |      in the keyword argument list.  For example:  dict(one=1, two=2)\n",
      " |  \n",
      " |  Built-in subclasses:\n",
      " |      StgDict\n",
      " |  \n",
      " |  Methods defined here:\n",
      " |  \n",
      " |  __contains__(self, key, /)\n",
      " |      True if the dictionary has the specified key, else False.\n",
      " |  \n",
      " |  __delitem__(self, key, /)\n",
      " |      Delete self[key].\n",
      " |  \n",
      " |  __eq__(self, value, /)\n",
      " |      Return self==value.\n",
      " |  \n",
      " |  __ge__(self, value, /)\n",
      " |      Return self>=value.\n",
      " |  \n",
      " |  __getattribute__(self, name, /)\n",
      " |      Return getattr(self, name).\n",
      " |  \n",
      " |  __getitem__(...)\n",
      " |      x.__getitem__(y) <==> x[y]\n",
      " |  \n",
      " |  __gt__(self, value, /)\n",
      " |      Return self>value.\n",
      " |  \n",
      " |  __init__(self, /, *args, **kwargs)\n",
      " |      Initialize self.  See help(type(self)) for accurate signature.\n",
      " |  \n",
      " |  __iter__(self, /)\n",
      " |      Implement iter(self).\n",
      " |  \n",
      " |  __le__(self, value, /)\n",
      " |      Return self<=value.\n",
      " |  \n",
      " |  __len__(self, /)\n",
      " |      Return len(self).\n",
      " |  \n",
      " |  __lt__(self, value, /)\n",
      " |      Return self<value.\n",
      " |  \n",
      " |  __ne__(self, value, /)\n",
      " |      Return self!=value.\n",
      " |  \n",
      " |  __repr__(self, /)\n",
      " |      Return repr(self).\n",
      " |  \n",
      " |  __reversed__(self, /)\n",
      " |      Return a reverse iterator over the dict keys.\n",
      " |  \n",
      " |  __setitem__(self, key, value, /)\n",
      " |      Set self[key] to value.\n",
      " |  \n",
      " |  __sizeof__(...)\n",
      " |      D.__sizeof__() -> size of D in memory, in bytes\n",
      " |  \n",
      " |  clear(...)\n",
      " |      D.clear() -> None.  Remove all items from D.\n",
      " |  \n",
      " |  copy(...)\n",
      " |      D.copy() -> a shallow copy of D\n",
      " |  \n",
      " |  get(self, key, default=None, /)\n",
      " |      Return the value for key if key is in the dictionary, else default.\n",
      " |  \n",
      " |  items(...)\n",
      " |      D.items() -> a set-like object providing a view on D's items\n",
      " |  \n",
      " |  keys(...)\n",
      " |      D.keys() -> a set-like object providing a view on D's keys\n",
      " |  \n",
      " |  pop(...)\n",
      " |      D.pop(k[,d]) -> v, remove specified key and return the corresponding value.\n",
      " |      If key is not found, d is returned if given, otherwise KeyError is raised\n",
      " |  \n",
      " |  popitem(self, /)\n",
      " |      Remove and return a (key, value) pair as a 2-tuple.\n",
      " |      \n",
      " |      Pairs are returned in LIFO (last-in, first-out) order.\n",
      " |      Raises KeyError if the dict is empty.\n",
      " |  \n",
      " |  setdefault(self, key, default=None, /)\n",
      " |      Insert key with a value of default if key is not in the dictionary.\n",
      " |      \n",
      " |      Return the value for key if key is in the dictionary, else default.\n",
      " |  \n",
      " |  update(...)\n",
      " |      D.update([E, ]**F) -> None.  Update D from dict/iterable E and F.\n",
      " |      If E is present and has a .keys() method, then does:  for k in E: D[k] = E[k]\n",
      " |      If E is present and lacks a .keys() method, then does:  for k, v in E: D[k] = v\n",
      " |      In either case, this is followed by: for k in F:  D[k] = F[k]\n",
      " |  \n",
      " |  values(...)\n",
      " |      D.values() -> an object providing a view on D's values\n",
      " |  \n",
      " |  ----------------------------------------------------------------------\n",
      " |  Class methods defined here:\n",
      " |  \n",
      " |  fromkeys(iterable, value=None, /) from builtins.type\n",
      " |      Create a new dictionary with keys from iterable and values set to value.\n",
      " |  \n",
      " |  ----------------------------------------------------------------------\n",
      " |  Static methods defined here:\n",
      " |  \n",
      " |  __new__(*args, **kwargs) from builtins.type\n",
      " |      Create and return a new object.  See help(type) for accurate signature.\n",
      " |  \n",
      " |  ----------------------------------------------------------------------\n",
      " |  Data and other attributes defined here:\n",
      " |  \n",
      " |  __hash__ = None\n",
      "\n"
     ]
    }
   ],
   "source": [
    "dict1 = {1:'a'}\n",
    "\n",
    "help(dict1.items)\n",
    "print(f\"\\n{'~'*60}\\n\")\n",
    "help(dict1)"
   ]
  },
  {
   "cell_type": "markdown",
   "metadata": {},
   "source": [
    "***\n",
    "***\n",
    "\n",
    "<br>\n",
    "\n",
    "<a id='_loops'></a>\n",
    "\n",
    "\n",
    "# <span style=\"color:#bcff8f\">Loops</span> [<span style=\"color:#6185c9;font-size:10px\">(*Home*)</span>](#_loops2)\n",
    "\n",
    "<hr style=\"border:dotted 1px\">"
   ]
  },
  {
   "cell_type": "markdown",
   "metadata": {},
   "source": [
    "<br>\n",
    "<a id=\"_for_loop\"></a>\n",
    "\n",
    "### <span style=\"color:#c58fff\">**For** Loop</span> [<span style=\"color:#6185c9;font-size:10px\">(*Home*)</span>](#_loops2)\n",
    "\n",
    "- For range(x,y) function, y is <u>exclusive</u>"
   ]
  },
  {
   "cell_type": "code",
   "execution_count": 24,
   "metadata": {},
   "outputs": [
    {
     "name": "stdout",
     "output_type": "stream",
     "text": [
      "Current value: 1\n",
      "Current value: 2\n",
      "Current value: 3\n",
      "Current value: 4\n",
      "Current value: 5\n",
      "Current value: 6\n",
      "Current value: 7\n",
      "Current value: 8\n",
      "Current value: 9\n",
      "Current value: 10\n"
     ]
    }
   ],
   "source": [
    "for num in range(1,11):\n",
    "    print(f\"Current value: {num}\")"
   ]
  },
  {
   "cell_type": "markdown",
   "metadata": {},
   "source": [
    "<hr style=\"border:dotted 1px\">\n",
    "\n",
    "<br>\n",
    "<a id=\"_while_loop\"></a>\n",
    "\n",
    "### <span style=\"color:#c58fff\">**While** Loop</span> [<span style=\"color:#6185c9;font-size:10px\">(*Home*)</span>](#_loops2)\n",
    "\n",
    "- <u>Break</u>: Exits the current loop at current iteration/step\n",
    "- <u>Continue</u>: Current iteration ceases and current loop starts\n",
    "- <u>Pass</u>: Whatever the condition, will continue to iterate through the code"
   ]
  },
  {
   "cell_type": "code",
   "execution_count": 30,
   "metadata": {},
   "outputs": [
    {
     "name": "stdout",
     "output_type": "stream",
     "text": [
      "Counter: 1\n",
      "Counter: 3\n",
      "Counter: 5\n",
      "Counter: 7\n",
      "Counter: 9\n"
     ]
    }
   ],
   "source": [
    "# Get odd numbers for numbers less than x\n",
    "\n",
    "x = 10\n",
    "counter = 0\n",
    "\n",
    "while True:\n",
    "    \n",
    "    if counter > x-1:\n",
    "        break  # exit current loop\n",
    "    \n",
    "    elif counter % 2 != 0:\n",
    "        counter+=1\n",
    "        continue  # stop current iteration and begin loop again\n",
    "        \n",
    "    else:\n",
    "        counter+=1\n",
    "        pass  # continue iteration of code\n",
    "\n",
    "    print(f'Counter: {counter}')"
   ]
  },
  {
   "cell_type": "markdown",
   "metadata": {},
   "source": [
    "<hr style=\"border:dotted 1px\">\n",
    "\n",
    "<br>\n",
    "<a id=\"_nested_loop\"></a>\n",
    "\n",
    "### <span style=\"color:#c58fff\">Nested Loop</span> [<span style=\"color:#6185c9;font-size:10px\">(*Home*)</span>](#_loops2)"
   ]
  },
  {
   "cell_type": "markdown",
   "metadata": {},
   "source": [
    "<br>\n",
    "\n",
    "Example 1"
   ]
  },
  {
   "cell_type": "code",
   "execution_count": 37,
   "metadata": {},
   "outputs": [
    {
     "name": "stdout",
     "output_type": "stream",
     "text": [
      "10 x 2 = 20\n",
      "11 x 3 = 33\n",
      "12 x 2 = 24\n",
      "13 x 3 = 39\n",
      "14 x 2 = 28\n",
      "15 x 3 = 45\n"
     ]
    }
   ],
   "source": [
    "counter=10\n",
    "\n",
    "while True:\n",
    "    if counter < 15:\n",
    "        for i in range(2,4):\n",
    "            print(f\"{str(counter)} x {str(i)} = {counter*i}\")\n",
    "            counter+=1\n",
    "    else:\n",
    "        break"
   ]
  },
  {
   "cell_type": "markdown",
   "metadata": {},
   "source": [
    "<br>\n",
    "\n",
    "Example 2"
   ]
  },
  {
   "cell_type": "code",
   "execution_count": 38,
   "metadata": {},
   "outputs": [
    {
     "name": "stdout",
     "output_type": "stream",
     "text": [
      "~|~|~|~|~|~|~|~|~|~|~|~|~|~|~|~|~|~|~|~|~|~|~|~|~\n",
      "|~|~|~|~|~|~|~|~|~|~|~|~|~|~|~|~|~|~|~|~|~|~|~|~|\n",
      "~|~|~|~|~|~|~|~|~|~|~|~|~|~|~|~|~|~|~|~|~|~|~|~|~\n",
      "|~|~|~|~|~|~|~|~|~|~|~|~|~|~|~|~|~|~|~|~|~|~|~|~|\n",
      "~|~|~|~|~|~|~|~|~|~|~|~|~|~|~|~|~|~|~|~|~|~|~|~|~\n",
      "|~|~|~|~|~|~|~|~|~|~|~|~|~|~|~|~|~|~|~|~|~|~|~|~|\n",
      "~|~|~|~|~|~|~|~|~|~|~|~|~|~|~|~|~|~|~|~|~|~|~|~|~\n",
      "|~|~|~|~|~|~|~|~|~|~|~|~|~|~|~|~|~|~|~|~|~|~|~|~|\n"
     ]
    }
   ],
   "source": [
    "for val1 in range(1,9):\n",
    "    string = ''\n",
    "    for val2 in range(1,50):\n",
    "        val2_1 = '~'\n",
    "        val2_2 = '|'\n",
    "        if val1 % 2 != 0:\n",
    "            if val2 % 2 != 0:\n",
    "                string = string + val2_1\n",
    "            else:\n",
    "                string = string + val2_2\n",
    "        else:\n",
    "            if val2 % 2 != 0:\n",
    "                string = string + val2_2\n",
    "            else:\n",
    "                string = string + val2_1\n",
    "    print(string)"
   ]
  },
  {
   "cell_type": "markdown",
   "metadata": {},
   "source": [
    "<hr style=\"border:dotted 1px\">\n",
    "\n",
    "<br>\n",
    "<a id=\"_list_comprehension\"></a>\n",
    "\n",
    "### <span style=\"color:#c58fff\">List Comprehension</span> [<span style=\"color:#6185c9;font-size:10px\">(*Home*)</span>](#_loops2)\n",
    "\n",
    "Shorthand for looping through an iterable to create a list."
   ]
  },
  {
   "cell_type": "markdown",
   "metadata": {},
   "source": [
    "<br>\n",
    "\n",
    "Example 1"
   ]
  },
  {
   "cell_type": "code",
   "execution_count": 15,
   "metadata": {},
   "outputs": [
    {
     "name": "stdout",
     "output_type": "stream",
     "text": [
      "[2, 4, 6]\n",
      "[2, 4, 6]\n"
     ]
    }
   ],
   "source": [
    "list1 = [1, 2, 3, 4, 5, 6, 7]\n",
    "\n",
    "\n",
    "# Creating list by looping through via comprehension\n",
    "even_list = [i for i in list1 if i%2==0]\n",
    "\n",
    "print(f\"{even_list}\")\n",
    "\n",
    "\n",
    "# Creating same list by looping through via old loop method\n",
    "even_list = []\n",
    "for i in list1:\n",
    "    if i%2==0:\n",
    "        even_list.append(i)\n",
    "        \n",
    "print(f\"{even_list}\")"
   ]
  },
  {
   "cell_type": "markdown",
   "metadata": {},
   "source": [
    "<br>\n",
    "\n",
    "Example 2"
   ]
  },
  {
   "cell_type": "code",
   "execution_count": 14,
   "metadata": {},
   "outputs": [
    {
     "name": "stdout",
     "output_type": "stream",
     "text": [
      "[1, 4, 9, 16, 25, 36, 49]\n",
      "[1, 4, 9, 16, 25, 36, 49]\n"
     ]
    }
   ],
   "source": [
    "list1 = [1, 2, 3, 4, 5, 6, 7]\n",
    "\n",
    "\n",
    "# Getting the square of each number in list via comprehension\n",
    "square_list = [i**2 for i in list1]\n",
    "\n",
    "print(f\"{square_list}\")\n",
    "\n",
    "\n",
    "# Getting the square of each number in list via old loop method\n",
    "square_list = []\n",
    "for i in list1:\n",
    "    square_list.append(i**2)\n",
    "    \n",
    "print(f\"{square_list}\")"
   ]
  },
  {
   "cell_type": "markdown",
   "metadata": {},
   "source": [
    "<br>\n",
    "\n",
    "Example 3"
   ]
  },
  {
   "cell_type": "code",
   "execution_count": 17,
   "metadata": {},
   "outputs": [
    {
     "name": "stdout",
     "output_type": "stream",
     "text": [
      "[1, 4, 6]\n",
      "[1, 4, 6]\n"
     ]
    }
   ],
   "source": [
    "dict1 = {\n",
    "    1:'a'\n",
    "    , 2:'b'\n",
    "    , 3:'c'\n",
    "    , 4:'a'\n",
    "    , 5:'c'\n",
    "    , 6:'a'\n",
    "}\n",
    "\n",
    "\n",
    "# Getting list of keys in dictionary where value = 'a' via comprehension\n",
    "a_list = [key for key, value in dict1.items() if value=='a']\n",
    "\n",
    "print(f\"{a_list}\")\n",
    "\n",
    "\n",
    "\n",
    "# Getting list of keys in dictionary where value = 'a' via old loop method\n",
    "a_list = [] \n",
    "for key, value in dict1.items():\n",
    "    if value=='a':\n",
    "        a_list.append(key)\n",
    "        \n",
    "print(f\"{a_list}\")"
   ]
  },
  {
   "cell_type": "markdown",
   "metadata": {},
   "source": [
    "<hr style=\"border:dotted 1px\">\n",
    "\n",
    "<br>\n",
    "<a id=\"_enumerate\"></a>\n",
    "\n",
    "### <span style=\"color:#c58fff\">Enumerate</span> [<span style=\"color:#6185c9;font-size:10px\">(*Home*)</span>](#_loops2)\n",
    "\n",
    "Shorthand for looping through an iterable to create a list with counter without starting a variable with 0 and then adding for each iteration."
   ]
  },
  {
   "cell_type": "code",
   "execution_count": 42,
   "metadata": {},
   "outputs": [
    {
     "name": "stdout",
     "output_type": "stream",
     "text": [
      "Standard method loop counter: 5\n",
      "Enumerate method loop counter: 5\n"
     ]
    }
   ],
   "source": [
    "# standard method ########################################\n",
    "list1 = ['a','b','c','d','e']\n",
    "count = 0\n",
    "\n",
    "for elem in list1:\n",
    "    count += 1\n",
    "    \n",
    "print(f\"Standard method loop counter: {count}\")\n",
    "\n",
    "\n",
    "\n",
    "# using the enumerate() function #########################\n",
    "for count, elem in enumerate(list1, start=1):  # default is to start sequence at 0\n",
    "    pass\n",
    "\n",
    "print(f\"Enumerate method loop counter: {count}\")\n"
   ]
  },
  {
   "cell_type": "markdown",
   "metadata": {},
   "source": [
    "***\n",
    "***\n",
    "\n",
    "<br>\n",
    "\n",
    "<a id='_functions'></a>\n",
    "\n",
    "# <span style=\"color:#bcff8f\">Functions</span> [<span style=\"color:#6185c9;font-size:10px\">(*Home*)</span>](#_functions2)\n"
   ]
  },
  {
   "cell_type": "markdown",
   "metadata": {},
   "source": [
    "<hr style=\"border:dotted 1px\">\n",
    "<br>\n",
    "<a id=\"_creating_functions\"></a>\n",
    "\n",
    "### <span style=\"color:#c58fff\">Creating Functions</span> [<span style=\"color:#6185c9;font-size:10px\">(*Home*)</span>](#_functions2)"
   ]
  },
  {
   "cell_type": "markdown",
   "metadata": {},
   "source": [
    "\n",
    "<a id=\"_required_parameter\"></a>\n",
    "\n",
    "#### <span style=\"color:white\">Required Parameter</span> [<span style=\"color:#6185c9;font-size:10px\">(*Home*)</span>](#_functions2)"
   ]
  },
  {
   "cell_type": "code",
   "execution_count": 56,
   "metadata": {},
   "outputs": [
    {
     "data": {
      "text/plain": [
       "7.285714285714286"
      ]
     },
     "execution_count": 56,
     "metadata": {},
     "output_type": "execute_result"
    }
   ],
   "source": [
    "def list_avg(num_list):\n",
    "    sample_size = len(num_list)\n",
    "    sum_lst = sum(num_list)\n",
    "    return (sum_lst / sample_size)\n",
    "\n",
    "list1 = [1,5,7,10,10,9,9]\n",
    "\n",
    "list_avg(list1)"
   ]
  },
  {
   "cell_type": "markdown",
   "metadata": {},
   "source": [
    "<br>\n",
    "<a id=\"_optional_default_parameter\"></a>\n",
    "\n",
    "#### <span style=\"color:white\">Optional Default Parameter</span> [<span style=\"color:#6185c9;font-size:10px\">(*Home*)</span>](#_functions2)"
   ]
  },
  {
   "cell_type": "code",
   "execution_count": 57,
   "metadata": {},
   "outputs": [
    {
     "name": "stdout",
     "output_type": "stream",
     "text": [
      "I love pizza!!!!!!\n"
     ]
    }
   ],
   "source": [
    "def food_love(food=\"pizza\"):\n",
    "    print(f\"I love {food}!!!!!!\")\n",
    "    \n",
    "food_love()"
   ]
  },
  {
   "cell_type": "markdown",
   "metadata": {},
   "source": [
    "<br>\n",
    "<a id=\"_**kwargs\"></a>\n",
    "\n",
    "#### <span style=\"color:white\">\\*\\*kwargs</span> [<span style=\"color:#6185c9;font-size:10px\">(*Home*)</span>](#_functions2) \n",
    "\n",
    "Undefined keyword parameters"
   ]
  },
  {
   "cell_type": "code",
   "execution_count": 62,
   "metadata": {},
   "outputs": [
    {
     "name": "stdout",
     "output_type": "stream",
     "text": [
      "num1: 5\n",
      "num2: 3\n",
      "num3: 2\n"
     ]
    }
   ],
   "source": [
    "def num_list(**kwargs):\n",
    "    for key, value in kwargs.items():\n",
    "        print(f\"{key}: {value}\")\n",
    "        \n",
    "num_list(num1=5, num2=3, num3=2)"
   ]
  },
  {
   "cell_type": "markdown",
   "metadata": {},
   "source": [
    "<br>\n",
    "<a id=\"_*args\"></a>\n",
    "\n",
    "#### <span style=\"color:white\">\\*args</span> [<span style=\"color:#6185c9;font-size:10px\">(*Home*)</span>](#_functions2) \n",
    "\n",
    "Undefined non-keyword parameters"
   ]
  },
  {
   "cell_type": "code",
   "execution_count": 63,
   "metadata": {},
   "outputs": [
    {
     "data": {
      "text/plain": [
       "7.285714285714286"
      ]
     },
     "execution_count": 63,
     "metadata": {},
     "output_type": "execute_result"
    }
   ],
   "source": [
    "def num_avg(*args):\n",
    "    counter = 0\n",
    "    _sum = 0\n",
    "    for arg in args:\n",
    "        counter+=1\n",
    "        _sum+=arg\n",
    "    return (_sum / counter)\n",
    "\n",
    "num_avg(1,5,7,10,10,9,9)\n",
    "    "
   ]
  },
  {
   "cell_type": "markdown",
   "metadata": {},
   "source": [
    "<hr style=\"border:dotted 1px\">\n",
    "<br>\n",
    "<a id=\"_if__name__=__main__\"></a>\n",
    "\n",
    "### <span style=\"color:#c58fff\">if \\_\\_name__ == \\\"\\_\\_main__\\\"</span> [<span style=\"color:#6185c9;font-size:10px\">(*Home*)</span>](#_functions2)\n",
    "\n",
    "Used for Object-Oriented programming in Python. If \\_\\_name__ != \\_\\_main__ then the code is coming from an external source. Allows for code reusability across different modules. If this code is not in your program, then when imported in another program all of the code would automatically run. Using the 'if' statement like below prevents this and the user can select which module methods/functions to execute once imported.\n",
    "\n",
    "<span style=\"font-size:11px\">\n",
    "    <ul>\n",
    "        <li>__name__ : variable that get's assigned a value of \"__main__\" if code is running directly in current module else it will be the name of the module that is being imported.\n",
    "    </ul>\n",
    "</span>"
   ]
  },
  {
   "cell_type": "code",
   "execution_count": 55,
   "metadata": {},
   "outputs": [
    {
     "name": "stdout",
     "output_type": "stream",
     "text": [
      "Code to execute in module if ran directly\n"
     ]
    }
   ],
   "source": [
    "def main():\n",
    "    print('Code to execute in module if ran directly')\n",
    "    \n",
    "def non_main1():\n",
    "    print('Code to execute if imported and called')\n",
    "    \n",
    "def non_main2():\n",
    "    print('Some more code to execute if imported and called')\n",
    "    \n",
    "if __name__ == '__main__':\n",
    "    main()"
   ]
  },
  {
   "cell_type": "markdown",
   "metadata": {},
   "source": [
    "***\n",
    "***\n",
    "\n",
    "<br>\n",
    "\n",
    "<a id='_lists'></a>\n",
    "\n",
    "# <span style=\"color:#bcff8f\">Lists</span> [<span style=\"color:#6185c9;font-size:10px\">(*Home*)</span>](#_lists2)\n",
    "\n",
    "<ul>\n",
    "    <li>Are mutable meaning the current values can be changed.\n",
    "    <li>Can contain multiple different data types.\n",
    "    <li>Are ordered meaning the values are indexed.\n",
    "    <li>Represented by square brackets '[ ]'.\n",
    "    <li>Duplicates elements allowed.\n",
    "</ul>\n"
   ]
  },
  {
   "cell_type": "markdown",
   "metadata": {},
   "source": [
    "<hr style=\"border:dotted 1px\">\n",
    "<br><br>\n",
    "<a id=\"_creating_lists\"></a>\n",
    "\n",
    "### <span style=\"color:#c58fff\">Creating Lists</span> [<span style=\"color:#6185c9;font-size:10px\">(*Home*)</span>](#_lists2)"
   ]
  },
  {
   "cell_type": "code",
   "execution_count": 8,
   "metadata": {},
   "outputs": [],
   "source": [
    "# Creating list using [ ]\n",
    "list1 = [1,2,'abc','def']\n",
    "\n",
    "\n",
    "# Creating list using list() function\n",
    "list2 = list([1,2,'abc','def'])\n",
    "\n",
    "\n",
    "# Creating empty list\n",
    "empty_list = []\n"
   ]
  },
  {
   "cell_type": "markdown",
   "metadata": {},
   "source": [
    "<hr style=\"border:dotted 1px\">\n",
    "<br>\n",
    "<a id=\"_accessing_list_elements\"></a>\n",
    "\n",
    "### <span style=\"color:#c58fff\">Accessing List Element(s)</span> [<span style=\"color:#6185c9;font-size:10px\">(*Home*)</span>](#_lists2)"
   ]
  },
  {
   "cell_type": "code",
   "execution_count": 15,
   "metadata": {},
   "outputs": [
    {
     "name": "stdout",
     "output_type": "stream",
     "text": [
      "1\n",
      "[1, 2, 3]\n"
     ]
    }
   ],
   "source": [
    "list1 = [1,2,3,'a','b','c']\n",
    "\n",
    "\n",
    "# Accessing single element\n",
    "print(list1[0])  # index [0] is first element in list\n",
    "\n",
    "\n",
    "# Accessing multiple elements\n",
    "print(list1[0:3])"
   ]
  },
  {
   "cell_type": "markdown",
   "metadata": {},
   "source": [
    "<hr style=\"border:dotted 1px\">\n",
    "<br>\n",
    "<a id=\"_modifying_list\"></a>\n",
    "\n",
    "### <span style=\"color:#c58fff\">Modifying List</span> [<span style=\"color:#6185c9;font-size:10px\">(*Home*)</span>](#_lists2)"
   ]
  },
  {
   "cell_type": "markdown",
   "metadata": {},
   "source": [
    "\n",
    "<a id=\"_adding_list_element\"></a>\n",
    "\n",
    "#### <span style=\"color:white\">Adding Element(s)</span> [<span style=\"color:#6185c9;font-size:10px\">(*Home*)</span>](#_lists2)"
   ]
  },
  {
   "cell_type": "code",
   "execution_count": 16,
   "metadata": {},
   "outputs": [
    {
     "name": "stdout",
     "output_type": "stream",
     "text": [
      "[1, 2, 3, 'a', 'b', 'c', 'd']\n",
      "[1, 2, 3, 'a', 'b', 'c', 'd', 4, 5]\n"
     ]
    }
   ],
   "source": [
    "list1 = [1,2,3,'a','b','c']\n",
    "\n",
    "\n",
    "# Appending element to list\n",
    "list1.append('d')\n",
    "print(list1)\n",
    "\n",
    "\n",
    "# Appending list to list\n",
    "list1 = list1 + [4,5]\n",
    "print(list1)"
   ]
  },
  {
   "cell_type": "markdown",
   "metadata": {},
   "source": [
    "<br>\n",
    "<a id=\"_removing_list_element\"></a>\n",
    "\n",
    "#### <span style=\"color:white\">Removing Element(s)</span> [<span style=\"color:#6185c9;font-size:10px\">(*Home*)</span>](#_lists2)"
   ]
  },
  {
   "cell_type": "code",
   "execution_count": 19,
   "metadata": {},
   "outputs": [
    {
     "name": "stdout",
     "output_type": "stream",
     "text": [
      "[1, 2, 'a', 'b', 'c', 'b', 'c', 1]\n",
      "[1, 2, 'a', 'b', 'b', 'c', 1]\n"
     ]
    }
   ],
   "source": [
    "list1 = [1,2,3,'a','b','c','b','c',1]\n",
    "\n",
    "\n",
    "# Remove element using del\n",
    "del list1[2]  # !!! If no index specified then entire list will be deleted !!!\n",
    "print(list1)\n",
    "\n",
    "\n",
    "# Remove element by value using .remove() method\n",
    "list1.remove('c')  # !!! Only remove the first instance found !!!\n",
    "print(list1)"
   ]
  },
  {
   "cell_type": "markdown",
   "metadata": {},
   "source": [
    "<br>\n",
    "<a id=\"_modifying_list_element\"></a>\n",
    "\n",
    "#### <span style=\"color:white\">Modifying Element(s)</span> [<span style=\"color:#6185c9;font-size:10px\">(*Home*)</span>](#_lists2)"
   ]
  },
  {
   "cell_type": "code",
   "execution_count": 25,
   "metadata": {},
   "outputs": [
    {
     "name": "stdout",
     "output_type": "stream",
     "text": [
      "[1, 20, 3]\n"
     ]
    }
   ],
   "source": [
    "list1 = [1,2,3]\n",
    "\n",
    "\n",
    "# Modify value in list\n",
    "list1[1] = 20\n",
    "print(list1)"
   ]
  },
  {
   "cell_type": "markdown",
   "metadata": {},
   "source": [
    "<br>\n",
    "<a id=\"_deleting_list\"></a>\n",
    "\n",
    "#### <span style=\"color:white\">Deleting List</span> [<span style=\"color:#6185c9;font-size:10px\">(*Home*)</span>](#_lists2)"
   ]
  },
  {
   "cell_type": "code",
   "execution_count": 24,
   "metadata": {},
   "outputs": [
    {
     "name": "stdout",
     "output_type": "stream",
     "text": [
      "list1 is not defined\n"
     ]
    }
   ],
   "source": [
    "list1 = [1,2,3]\n",
    "\n",
    "# Delete the list\n",
    "del list1\n",
    "\n",
    "try:\n",
    "    print(list1)\n",
    "except NameError:\n",
    "    print('list1 is not defined')"
   ]
  },
  {
   "cell_type": "markdown",
   "metadata": {},
   "source": [
    "<hr style=\"border:dotted 1px\">\n",
    "<br>\n",
    "<a id=\"_analyzing_list\"></a>\n",
    "\n",
    "### <span style=\"color:#c58fff\">Analyzing List</span> [<span style=\"color:#6185c9;font-size:10px\">(*Home*)</span>](#_lists2)"
   ]
  },
  {
   "cell_type": "markdown",
   "metadata": {},
   "source": [
    "\n",
    "<a id=\"_length_of_list\"></a>\n",
    "\n",
    "#### <span style=\"color:white\">Length of List</span> [<span style=\"color:#6185c9;font-size:10px\">(*Home*)</span>](#_lists2)"
   ]
  },
  {
   "cell_type": "code",
   "execution_count": 20,
   "metadata": {},
   "outputs": [
    {
     "data": {
      "text/plain": [
       "6"
      ]
     },
     "execution_count": 20,
     "metadata": {},
     "output_type": "execute_result"
    }
   ],
   "source": [
    "list1 = [1,2,3,'a','b','c']\n",
    "\n",
    "len(list1)"
   ]
  },
  {
   "cell_type": "markdown",
   "metadata": {},
   "source": [
    "<br>\n",
    "<a id=\"_sum_of_list\"></a>\n",
    "\n",
    "#### <span style=\"color:white\">Sum of List</span> [<span style=\"color:#6185c9;font-size:10px\">(*Home*)</span>](#_lists2)"
   ]
  },
  {
   "cell_type": "code",
   "execution_count": 28,
   "metadata": {},
   "outputs": [
    {
     "data": {
      "text/plain": [
       "6"
      ]
     },
     "execution_count": 28,
     "metadata": {},
     "output_type": "execute_result"
    }
   ],
   "source": [
    "list1 = [1,2,3]\n",
    "\n",
    "sum(list1)"
   ]
  },
  {
   "cell_type": "markdown",
   "metadata": {},
   "source": [
    "<br>\n",
    "<a id=\"_looping_through_list\"></a>\n",
    "\n",
    "#### <span style=\"color:white\">Looping Through List</span> [<span style=\"color:#6185c9;font-size:10px\">(*Home*)</span>](#_lists2)"
   ]
  },
  {
   "cell_type": "code",
   "execution_count": 31,
   "metadata": {},
   "outputs": [
    {
     "name": "stdout",
     "output_type": "stream",
     "text": [
      "list1[0] = 1\n",
      "list1[1] = 2\n",
      "list1[2] = 3\n",
      "list1[3] = a\n",
      "list1[4] = b\n",
      "list1[5] = c\n"
     ]
    }
   ],
   "source": [
    "list1 = [1,2,3,'a','b','c']\n",
    "index = 0\n",
    "\n",
    "for elem in list1:\n",
    "    print(f\"list1[{index}] = {elem}\")\n",
    "    index+=1"
   ]
  },
  {
   "cell_type": "markdown",
   "metadata": {},
   "source": [
    "***\n",
    "***\n",
    "\n",
    "<br><br>\n",
    "\n",
    "<a id='_tuples'></a>\n",
    "\n",
    "# <span style=\"color:#bcff8f\">Tuples</span> [<span style=\"color:#6185c9;font-size:10px\">(*Home*)</span>](#_tuples2)\n",
    "\n",
    "<ul>\n",
    "    <li>Are immutable meaning the current values can <b>not</b> be changed.\n",
    "    <li>Can contain multiple different data types.\n",
    "    <li>Are ordered meaning the values are indexed.\n",
    "    <li>Represented by parenthesis '( )'.\n",
    "    <li>Duplicate elements allowed.\n",
    "</ul>"
   ]
  },
  {
   "cell_type": "markdown",
   "metadata": {},
   "source": [
    "<br>\n",
    "<a id=\"_creating_tuples\"></a>\n",
    "\n",
    "### <span style=\"color:#c58fff\">Creating Tuples</span> [<span style=\"color:#6185c9;font-size:10px\">(*Home*)</span>](#_tuples2)"
   ]
  },
  {
   "cell_type": "code",
   "execution_count": 37,
   "metadata": {},
   "outputs": [
    {
     "name": "stdout",
     "output_type": "stream",
     "text": [
      "('ID:', 'e81554', 'Age:', 32)\n",
      "\n",
      "tup1 type: <class 'tuple'>\n",
      "tup2 type: <class 'str'>\n",
      "\n",
      "()\n"
     ]
    }
   ],
   "source": [
    "# Creating tuple with elements\n",
    "tup1 = ('ID:','e81554','Age:',32)\n",
    "print(f\"{tup1}\\n\")\n",
    "\n",
    "\n",
    "# Creating single value Tuple\n",
    "tup1 = ('ID:',)  # If single value Tuple you must insert comma after first element, otherwise it will consider it a regular variable\n",
    "non_tup = ('ID:')  # no comma so Python considers it a variable\n",
    "print(f'''tup1 type: {type(tup1)}\n",
    "tup2 type: {type(non_tup)}\\n''')\n",
    "\n",
    "\n",
    "# Creating an empty Tuple\n",
    "tup1 = tuple()\n",
    "print(tup1)\n"
   ]
  },
  {
   "cell_type": "markdown",
   "metadata": {},
   "source": [
    "<hr style=\"border:dotted 1px\">\n",
    "<br>\n",
    "<a id=\"_accessing_tuple_elements\"></a>\n",
    "\n",
    "### <span style=\"color:#c58fff\">Accessing Tuple Element(s)</span> [<span style=\"color:#6185c9;font-size:10px\">(*Home*)</span>](#_tuples2)"
   ]
  },
  {
   "cell_type": "code",
   "execution_count": 43,
   "metadata": {},
   "outputs": [
    {
     "name": "stdout",
     "output_type": "stream",
     "text": [
      "ID:\n",
      "\n",
      "('ID:', 'e81554')\n"
     ]
    }
   ],
   "source": [
    "tup1 = ('ID:','e81554','Age:',32)\n",
    "\n",
    "\n",
    "# Accessing single value in tuple\n",
    "print(f\"{tup1[0]}\\n\")\n",
    "\n",
    "\n",
    "# Accessing multiple values in tuple\n",
    "print(tup1[0:2])"
   ]
  },
  {
   "cell_type": "markdown",
   "metadata": {},
   "source": [
    "<hr style=\"border:dotted 1px\">\n",
    "<br>\n",
    "<a id=\"_modifying_tuple\"></a>\n",
    "\n",
    "### <span style=\"color:#c58fff\">Modifying Tuple</span> [<span style=\"color:#6185c9;font-size:10px\">(*Home*)</span>](#_tuples2)\n",
    "\n",
    "Remember, Tuples are immutable and elements cannot be <u>directly</u> modified but you can indirectly achieve modifying a tuple by overwriting the tuple with newly desired tuple elements."
   ]
  },
  {
   "cell_type": "markdown",
   "metadata": {},
   "source": [
    "\n",
    "<a id=\"_adding_tuple_element\"></a>\n",
    "\n",
    "#### <span style=\"color:white\">Adding Element(s)</span> [<span style=\"color:#6185c9;font-size:10px\">(*Home*)</span>](#_tuples2)"
   ]
  },
  {
   "cell_type": "code",
   "execution_count": 47,
   "metadata": {},
   "outputs": [
    {
     "name": "stdout",
     "output_type": "stream",
     "text": [
      "('ID:', 'e81554', 'Age:', 32, 'DOB: ', 1989)\n"
     ]
    }
   ],
   "source": [
    "tup1 = ('ID:','e81554','Age:',32)\n",
    "\n",
    "tup1 = tup1 + ('DOB: ',1989)\n",
    "\n",
    "print(tup1)"
   ]
  },
  {
   "cell_type": "markdown",
   "metadata": {},
   "source": [
    "<br>\n",
    "<a id=\"_removing_tuple_element\"></a>\n",
    "\n",
    "#### <span style=\"color:white\">Removing Element(s)</span> [<span style=\"color:#6185c9;font-size:10px\">(*Home*)</span>](#_tuples2)"
   ]
  },
  {
   "cell_type": "code",
   "execution_count": 51,
   "metadata": {},
   "outputs": [
    {
     "name": "stdout",
     "output_type": "stream",
     "text": [
      "('ID:', 'e81554')\n"
     ]
    }
   ],
   "source": [
    "tup1 = ('ID:','e81554','Age:',32)\n",
    "\n",
    "tup1 = tup1[0:2]  # Affectively remove last 2 elements.\n",
    "\n",
    "print(tup1)"
   ]
  },
  {
   "cell_type": "markdown",
   "metadata": {},
   "source": [
    "<br>\n",
    "<a id=\"_modifying_tuple_element\"></a>\n",
    "\n",
    "#### <span style=\"color:white\">Modifying Element(s)</span> [<span style=\"color:#6185c9;font-size:10px\">(*Home*)</span>](#_tuples2)\n",
    "\n",
    "Is a little bit trickier. Will have to first convert the tuple to a list, then change the desired element, then convert the list back to a tuple overwriting the previous tuple variable."
   ]
  },
  {
   "cell_type": "code",
   "execution_count": 39,
   "metadata": {},
   "outputs": [
    {
     "name": "stdout",
     "output_type": "stream",
     "text": [
      "('ID:', 'e81554', 'Age:', 34)\n"
     ]
    }
   ],
   "source": [
    "tup1 = ('ID:','e81554','Age:',32)\n",
    "\n",
    "tup_list = list(tup1)  # Convert tuple to list\n",
    "\n",
    "tup_list[3] = 34  # Change value in list\n",
    "\n",
    "tup1 = tuple(tup_list)  # Convert the list to a tuple overwriting the previous tuple variable\n",
    "\n",
    "print(tup1)\n",
    "    "
   ]
  },
  {
   "cell_type": "markdown",
   "metadata": {},
   "source": [
    "<hr style=\"border:dotted 1px\">\n",
    "<br>\n",
    "<a id=\"_analyzing_tuple\"></a>\n",
    "\n",
    "### <span style=\"color:#c58fff\">Analyzing Tuple</span> [<span style=\"color:#6185c9;font-size:10px\">(*Home*)</span>](#_tuples2)"
   ]
  },
  {
   "cell_type": "markdown",
   "metadata": {},
   "source": [
    "\n",
    "<a id=\"_length_of_tuple\"></a>\n",
    "\n",
    "#### <span style=\"color:white\">Length of Tuple</span> [<span style=\"color:#6185c9;font-size:10px\">(*Home*)</span>](#_tuples2)"
   ]
  },
  {
   "cell_type": "code",
   "execution_count": 54,
   "metadata": {},
   "outputs": [
    {
     "data": {
      "text/plain": [
       "4"
      ]
     },
     "execution_count": 54,
     "metadata": {},
     "output_type": "execute_result"
    }
   ],
   "source": [
    "tup1 = ('ID:','e81554','Age:',32)\n",
    "\n",
    "len(tup1)"
   ]
  },
  {
   "cell_type": "markdown",
   "metadata": {},
   "source": [
    "\n",
    "<a id=\"_looping_through_tuple\"></a>\n",
    "\n",
    "#### <span style=\"color:white\">Looping Through Tuple</span> [<span style=\"color:#6185c9;font-size:10px\">(*Home*)</span>](#_tuples2)"
   ]
  },
  {
   "cell_type": "code",
   "execution_count": 57,
   "metadata": {},
   "outputs": [
    {
     "name": "stdout",
     "output_type": "stream",
     "text": [
      "ID: e81554\n",
      "Name: Patrick Weatherford\n",
      "Age: 32\n"
     ]
    }
   ],
   "source": [
    "tup1 = ('ID: ', 'e81554', 'Name: ', 'Patrick Weatherford', 'Age: ', 32)\n",
    "\n",
    "index = 0\n",
    "\n",
    "for elem in tup1:\n",
    "    tup_len = len(tup1)\n",
    "    print(f'''{tup1[index]}{tup1[index+1]}''')\n",
    "    index += 2\n",
    "    if index+1 > tup_len:\n",
    "        break\n",
    "    else:\n",
    "        pass"
   ]
  },
  {
   "cell_type": "markdown",
   "metadata": {},
   "source": [
    "***\n",
    "***\n",
    "\n",
    "<br><br>\n",
    "\n",
    "<a id='_sets'></a>\n",
    "\n",
    "# <span style=\"color:#bcff8f\">Sets</span> [<span style=\"color:#6185c9;font-size:10px\">(*Home*)</span>](#_sets2)\n",
    "<ul>\n",
    "    <li>Are mutable meaning the current values can be changed.\n",
    "    <li>Can contain multiple different data types.\n",
    "    <li>Are unordered meaning the values are <b>not</b> indexed.\n",
    "    <li>Represented by braces '{ }' similar to Dictionaries but elements <b>not</b> stored as key:value pairs.\n",
    "    <li>Duplicate elements <b>not</b> allowed.\n",
    "    <li>Highly optimized for checking if an element is contained in the set.\n",
    "</ul>"
   ]
  },
  {
   "cell_type": "markdown",
   "metadata": {},
   "source": [
    "<br>\n",
    "<a id=\"_creating_sets\"></a>\n",
    "\n",
    "### <span style=\"color:#c58fff\">Creating Sets</span> [<span style=\"color:#6185c9;font-size:10px\">(*Home*)</span>](#_sets2)\n",
    "\n",
    "Duplicate values will be made unique when creating a set!"
   ]
  },
  {
   "cell_type": "code",
   "execution_count": 65,
   "metadata": {},
   "outputs": [
    {
     "name": "stdout",
     "output_type": "stream",
     "text": [
      "{1, 2, 3, 4, 5}\n",
      "\n",
      "{1, 2, 3, 4, 5}\n",
      "\n",
      "set()\n"
     ]
    }
   ],
   "source": [
    "# Creating a set using braces '{ }'\n",
    "set1 = {1,1,2,2,3,3,4,4,5,5}\n",
    "print(f'{set1}\\n')\n",
    "\n",
    "\n",
    "# Creating a set using set()\n",
    "set1 = set([1,1,2,2,3,3,4,4,5,5]) # converting list to set\n",
    "print(f'{set1}\\n')\n",
    "\n",
    "\n",
    "# Creating an empty set\n",
    "empty_set = set() # Cannot use var = {} because Python will think this is an empty dictionary\n",
    "print(empty_set)"
   ]
  },
  {
   "cell_type": "markdown",
   "metadata": {},
   "source": [
    "<hr style=\"border:dotted 1px\">\n",
    "<br>\n",
    "<a id=\"_accessing_set_elements\"></a>\n",
    "\n",
    "### <span style=\"color:#c58fff\">Accessing Set Element(s)</span> [<span style=\"color:#6185c9;font-size:10px\">(*Home*)</span>](#_sets2)\n",
    "\n",
    "Sets are unordered which means they have no index that we can use to access specific elements. For this reason we will have to loop through the Set to access the value you are wanting to find."
   ]
  },
  {
   "cell_type": "code",
   "execution_count": 69,
   "metadata": {},
   "outputs": [
    {
     "name": "stdout",
     "output_type": "stream",
     "text": [
      "'b' was found in set1\n"
     ]
    }
   ],
   "source": [
    "set1 = {1, 'a', 2, 'b', 3, 'c'}\n",
    "\n",
    "item_to_find = 'b'\n",
    "item_found = False\n",
    "\n",
    "for elem in set1:\n",
    "    if str(elem) == item_to_find:\n",
    "        item_found = True\n",
    "        break\n",
    "    else:\n",
    "        continue\n",
    "        \n",
    "if item_found is True:\n",
    "    print(f\"'{item_to_find}' was found in set1\")\n",
    "else:\n",
    "    print(f\"'{item_to_find}' was NOT found in set1\")"
   ]
  },
  {
   "cell_type": "markdown",
   "metadata": {},
   "source": [
    "<hr style=\"border:dotted 1px\">\n",
    "<br>\n",
    "<a id=\"_modifying_set\"></a>\n",
    "\n",
    "### <span style=\"color:#c58fff\">Modifying Set</span> [<span style=\"color:#6185c9;font-size:10px\">(*Home*)</span>](#_sets2)\n"
   ]
  },
  {
   "cell_type": "markdown",
   "metadata": {},
   "source": [
    "<br>\n",
    "<a id=\"_adding_set_element\"></a>\n",
    "\n",
    "#### <span style=\"color:white\">Adding Element(s)</span> [<span style=\"color:#6185c9;font-size:10px\">(*Home*)</span>](#_sets2)\n",
    "\n",
    "<ul>\n",
    "    <li><u>.add()</u>: If element already exists, \n",
    "</ul>"
   ]
  },
  {
   "cell_type": "code",
   "execution_count": 70,
   "metadata": {},
   "outputs": [
    {
     "name": "stdout",
     "output_type": "stream",
     "text": [
      "{1, 2, 3, 'c', 4, 'a', 'b'}\n"
     ]
    }
   ],
   "source": [
    "set1 = {1, 'a', 2, 'b', 3, 'c'}\n",
    "\n",
    "\n",
    "# Add element using .add() method\n",
    "set1.add(1)  # If already exists, will ignore\n",
    "set1.add(4)\n",
    "print(f'{set1}')"
   ]
  },
  {
   "cell_type": "markdown",
   "metadata": {},
   "source": [
    "<br>\n",
    "<a id=\"_removing_set_element\"></a>\n",
    "\n",
    "#### <span style=\"color:white\">Removing Element(s)</span> [<span style=\"color:#6185c9;font-size:10px\">(*Home*)</span>](#_sets2)\n",
    "\n",
    "<ul>\n",
    "    <li><u>.discard()</u>: If element to remove not found, no exception thrown.\n",
    "    <li><u>.remove()</u>: If element to remove not found, exception thrown.\n",
    "    <li><u>.clear()</u>: Removes all elements from a set. If no elements in set when executed, no exception thrown.\n",
    "</ul>"
   ]
  },
  {
   "cell_type": "code",
   "execution_count": 104,
   "metadata": {},
   "outputs": [
    {
     "name": "stdout",
     "output_type": "stream",
     "text": [
      "{2, 3, 'c', 'a', 'b'}\n",
      "\n",
      "Element 777 does not exist in the set! Nothing removed!\n",
      "{2, 3, 'c', 'a', 'b'}\n",
      "\n",
      "{2, 3}\n",
      "\n",
      "set()\n"
     ]
    }
   ],
   "source": [
    "set1 = {1, 'a', 2, 'b', 3, 'c'}\n",
    "\n",
    "\n",
    "# Remove element using .discard() method\n",
    "set1.discard(777)  # No exception thrown if doesn't exist\n",
    "set1.discard(1)\n",
    "print(f'{set1}\\n')\n",
    "\n",
    "\n",
    "# Remove element using .remove() method\n",
    "try:\n",
    "    set1.remove(777)  # Exception thrown if doesn't exist\n",
    "except KeyError:\n",
    "    print('Element 777 does not exist in the set! Nothing removed!')\n",
    "    print(f\"{set1}\\n\")\n",
    "    \n",
    "    \n",
    "# Remove multiple elements by removing elements in set that are in another set\n",
    "remove_elem_set = {'a', 'b', 'c'}\n",
    "set1 = set1 - remove_elem_set\n",
    "print(f\"{set1}\\n\")\n",
    "    \n",
    "    \n",
    "# Remove all elements using .clear() method\n",
    "set1.clear()\n",
    "print(set1)"
   ]
  },
  {
   "cell_type": "markdown",
   "metadata": {},
   "source": [
    "<br>\n",
    "<a id=\"_modifying_set_element\"></a>\n",
    "\n",
    "#### <span style=\"color:white\">Modifying Element(s)</span> [<span style=\"color:#6185c9;font-size:10px\">(*Home*)</span>](#_sets2)\n",
    "\n",
    "Same to Accessing Elements, when modifying an element in a Set you'll need to loop through the Set because it is unordered and un-indexed. "
   ]
  },
  {
   "cell_type": "code",
   "execution_count": 82,
   "metadata": {},
   "outputs": [
    {
     "name": "stdout",
     "output_type": "stream",
     "text": [
      "{1, 2, 3, 'C', 'B', 'A'}\n"
     ]
    }
   ],
   "source": [
    "set1 = {1, 'a', 2, 'b', 3, 'c'}\n",
    "\n",
    "# If element is not upper case, add upper case version and remove lower case version\n",
    "for elem in set1:\n",
    "    if str(elem) != str(elem).upper():\n",
    "        set1.add(elem.upper())\n",
    "        set1.discard(elem)\n",
    "    else:\n",
    "        continue\n",
    "        \n",
    "print(f\"{set1}\")\n",
    "    "
   ]
  },
  {
   "cell_type": "markdown",
   "metadata": {},
   "source": [
    "<br>\n",
    "<a id=\"_deleting_set\"></a>\n",
    "\n",
    "#### <span style=\"color:white\">Deleting Set</span> [<span style=\"color:#6185c9;font-size:10px\">(*Home*)</span>](#_sets2)"
   ]
  },
  {
   "cell_type": "code",
   "execution_count": 112,
   "metadata": {},
   "outputs": [
    {
     "name": "stdout",
     "output_type": "stream",
     "text": [
      "set1 has been deleted!\n"
     ]
    }
   ],
   "source": [
    "set1 = {1, 'a', 2, 'b', 3, 'c'}\n",
    "\n",
    "del set1\n",
    "\n",
    "try:\n",
    "    print(set1)\n",
    "except:\n",
    "    print('set1 has been deleted!')"
   ]
  },
  {
   "cell_type": "markdown",
   "metadata": {},
   "source": [
    "<hr style=\"border:dotted 1px\">\n",
    "<br>\n",
    "<a id=\"_analyzing_set\"></a>\n",
    "\n",
    "### <span style=\"color:#c58fff\">Analyzing Set</span> [<span style=\"color:#6185c9;font-size:10px\">(*Home*)</span>](#_sets2)\n"
   ]
  },
  {
   "cell_type": "markdown",
   "metadata": {},
   "source": [
    "<br>\n",
    "<a id=\"_length_of_set\"></a>\n",
    "\n",
    "#### <span style=\"color:white\">Length of Set</span> [<span style=\"color:#6185c9;font-size:10px\">(*Home*)</span>](#_sets2)"
   ]
  },
  {
   "cell_type": "code",
   "execution_count": 105,
   "metadata": {},
   "outputs": [
    {
     "data": {
      "text/plain": [
       "8"
      ]
     },
     "execution_count": 105,
     "metadata": {},
     "output_type": "execute_result"
    }
   ],
   "source": [
    "set1 = {1, 'a', 2, 'b', 3, 'c', 4.5, -1}\n",
    "\n",
    "len(set1)"
   ]
  },
  {
   "cell_type": "markdown",
   "metadata": {},
   "source": [
    "<br>\n",
    "<a id=\"_sum_of_set\"></a>\n",
    "\n",
    "#### <span style=\"color:white\">Sum of Set</span> [<span style=\"color:#6185c9;font-size:10px\">(*Home*)</span>](#_sets2)\n",
    "\n",
    "Will first need to remove non-numeric elements."
   ]
  },
  {
   "cell_type": "code",
   "execution_count": 110,
   "metadata": {},
   "outputs": [
    {
     "name": "stdout",
     "output_type": "stream",
     "text": [
      "{1, 2, 3, 4.5, -1}\n"
     ]
    }
   ],
   "source": [
    "set1 = {1, 'a', 2, 'b', 3, 'c', 4.5, -1}\n",
    "num_list = []\n",
    "\n",
    "float_chk = type(1.5)\n",
    "int_chk = type(1)\n",
    "\n",
    "for elem in set1:\n",
    "    if type(elem)==float_chk or type(elem)==int_chk:\n",
    "        num_list.append(elem)\n",
    "    else:\n",
    "        pass\n",
    "\n",
    "\n"
   ]
  },
  {
   "cell_type": "markdown",
   "metadata": {},
   "source": [
    "<br>\n",
    "<a id=\"_similarities_between_sets\"></a>\n",
    "\n",
    "#### <span style=\"color:white\">Similarities Between Sets</span> [<span style=\"color:#6185c9;font-size:10px\">(*Home*)</span>](#_sets2)\n",
    "\n",
    "Get unique similarites between multiple sets.\n",
    "\n",
    "- .intersection() method\n",
    "- Shortcut syntax for this method is the '|' operator."
   ]
  },
  {
   "cell_type": "code",
   "execution_count": 113,
   "metadata": {},
   "outputs": [
    {
     "name": "stdout",
     "output_type": "stream",
     "text": [
      "{3, 4, 5}\n",
      "{3, 4, 5}\n"
     ]
    }
   ],
   "source": [
    "set1 = {1,2,3,4,5}\n",
    "set2 = {3,4,5,6,7}\n",
    "\n",
    "\n",
    "# Compare using the .intersection() method\n",
    "print(set1.intersection(set2))\n",
    "\n",
    "\n",
    "# Compare using the '&' syntax for the .intersection() method\n",
    "print(set1 & set2)"
   ]
  },
  {
   "cell_type": "markdown",
   "metadata": {},
   "source": [
    "<br>\n",
    "<a id=\"_unique_values_between_sets\"></a>\n",
    "\n",
    "#### <span style=\"color:white\">Unique Values Between Sets</span> [<span style=\"color:#6185c9;font-size:10px\">(*Home*)</span>](#_sets2)\n",
    "\n",
    "Combine multiple sets into 1 set with unique values.\n",
    "\n",
    "- .union() method\n",
    "- Shortcut syntax for this method is the '|' operator."
   ]
  },
  {
   "cell_type": "code",
   "execution_count": 116,
   "metadata": {},
   "outputs": [
    {
     "name": "stdout",
     "output_type": "stream",
     "text": [
      "{1, 2, 3, 6, 7}\n",
      "{1, 2, 3, 6, 7}\n"
     ]
    }
   ],
   "source": [
    "set1 = {1,2,3}\n",
    "set2 = {6,7,3}\n",
    "\n",
    "\n",
    "# Compare using the .union() method\n",
    "print(set1.union(set2))\n",
    "\n",
    "\n",
    "# Compare using the '|' syntax for the .union() method\n",
    "print(set1 | set2)"
   ]
  },
  {
   "cell_type": "markdown",
   "metadata": {},
   "source": [
    "<br>\n",
    "<a id=\"_unique_differences_between_sets\"></a>\n",
    "\n",
    "#### <span style=\"color:white\">Unique Differences Between Sets</span> [<span style=\"color:#6185c9;font-size:10px\">(*Home*)</span>](#_sets2)\n",
    "\n",
    "<ul>\n",
    "    <li><u>.difference()</u>: Gets unique values in first set that are <b>not</b> in the other set. Shortcut syntax for this method is the '-' operator.\n",
    "    <li><u>.symmetric_difference()</u>: Gets values unique to each set and combines them into 1 set. Shortcut syntax for this method is the '^' operator. \n",
    "</ul>\n"
   ]
  },
  {
   "cell_type": "code",
   "execution_count": 119,
   "metadata": {},
   "outputs": [
    {
     "name": "stdout",
     "output_type": "stream",
     "text": [
      "{1, 2}\n",
      "{5, 6}\n",
      "{1, 2, 5, 6}\n",
      "{1, 2, 5, 6}\n"
     ]
    }
   ],
   "source": [
    "set1 = {1,2,3,4}\n",
    "set2 = {3,4,5,6}\n",
    "\n",
    "\n",
    "# Remove values in set1 that are in set2\n",
    "print(set1 - set2)  # set1 - set2\n",
    "print(set2.difference(set1))  # set2 - set1\n",
    "\n",
    "\n",
    "# Remove all similar values between multiple sets\n",
    "print(set1 ^ set2)\n",
    "print(set2.symmetric_difference(set1))\n"
   ]
  },
  {
   "cell_type": "markdown",
   "metadata": {},
   "source": [
    "<br>\n",
    "<a id=\"_subsets_vs_supersets\"></a>\n",
    "\n",
    "#### <span style=\"color:white\">Subsets vs. Supersets</span> [<span style=\"color:#6185c9;font-size:10px\">(*Home*)</span>](#_sets2)\n",
    "\n",
    "<ul>\n",
    "    <li><u>Subset</u>: A set in which all elements exist in another set with equal ore more elements in it.\n",
    "    <li><u>Superset</u>: A set in which all elements exist in another set and has equal to ore more elements in it.\n",
    "</ul>"
   ]
  },
  {
   "cell_type": "code",
   "execution_count": 121,
   "metadata": {},
   "outputs": [
    {
     "name": "stdout",
     "output_type": "stream",
     "text": [
      "\n",
      "sub_set is superset of sup_set? False\n",
      "\n"
     ]
    }
   ],
   "source": [
    "sub_set = {1,2,3}\n",
    "sub_set2 = {1,2,3}\n",
    "sup_set = {1,2,3,4,5}\n",
    "empty_set = set()\n",
    "\n",
    "print(f'''\n",
    "sub_set is superset of sup_set? {sub_set.issuperset(sup_set)}\n",
    "''')\n",
    "\n"
   ]
  },
  {
   "cell_type": "markdown",
   "metadata": {},
   "source": [
    "***\n",
    "***\n",
    "\n",
    "<br><br>\n",
    "\n",
    "<a id='_dictionaries'></a>\n",
    "\n",
    "# <span style=\"color:#bcff8f\">Dictionaries</span> [<span style=\"color:#6185c9;font-size:10px\">(*Home*)</span>](#_dictionaries2)\n",
    "<ul>\n",
    "    <li>Are mutable meaning the current values can be changed.\n",
    "    <li>Can contain multiple different data types.\n",
    "    <li>Are ordered meaning the values are indexed.\n",
    "    <li>Represented by braces '{ }' similar to Sets but elements stored as key:value pairs.\n",
    "    <li>Does not allow duplicate keys but values can however be duplicated.\n",
    "</ul>"
   ]
  },
  {
   "cell_type": "markdown",
   "metadata": {},
   "source": [
    "<br>\n",
    "<a id=\"_creating_dictionaries\"></a>\n",
    "\n",
    "### <span style=\"color:#c58fff\">Creating Dictionaries</span> [<span style=\"color:#6185c9;font-size:10px\">(*Home*)</span>](#_dictionaries2)"
   ]
  },
  {
   "cell_type": "code",
   "execution_count": 11,
   "metadata": {},
   "outputs": [
    {
     "name": "stdout",
     "output_type": "stream",
     "text": [
      "{1: 'a', 2: 'b', 3: 'c', 4: 'd', 5: 'a'}\n",
      "{1: 10, 2: 20, 3: 30, 4: 40}\n"
     ]
    }
   ],
   "source": [
    "dict1 = {\n",
    "    1:'a'\n",
    "    , 2:'b'\n",
    "    , 3:'c'\n",
    "    , 4:'this gets overwritten' \n",
    "    , 4:'d' # because this is read last, value is updated to this value for key=4\n",
    "    , 5:'a' # duplicate values allowed\n",
    "}\n",
    "\n",
    "dict2 = {\n",
    "    1:10\n",
    "    , 2:20\n",
    "    , 3:30\n",
    "    , 4:40 \n",
    "}\n",
    "\n",
    "print(f\"{dict1}\\n{dict2}\")"
   ]
  },
  {
   "cell_type": "markdown",
   "metadata": {},
   "source": [
    "<hr style=\"border:dotted 1px\">\n",
    "<br>\n",
    "<a id=\"_accessing_dictionary_elements\"></a>\n",
    "\n",
    "### <span style=\"color:#c58fff\">Accessing Dictionary Element(s)</span> [<span style=\"color:#6185c9;font-size:10px\">(*Home*)</span>](#_dictionaries2)"
   ]
  },
  {
   "cell_type": "markdown",
   "metadata": {},
   "source": [
    "<br>\n",
    "<a id=\"_accessing_based_on_key\"></a>\n",
    "\n",
    "#### <span style=\"color:white\">Accessing Based on Key</span> [<span style=\"color:#6185c9;font-size:10px\">(*Home*)</span>](#_dictionaries2)"
   ]
  },
  {
   "cell_type": "code",
   "execution_count": 8,
   "metadata": {},
   "outputs": [
    {
     "name": "stdout",
     "output_type": "stream",
     "text": [
      "Value for key=4: d\n"
     ]
    }
   ],
   "source": [
    "dict1 = {\n",
    "    1:'a'\n",
    "    , 2:'b'\n",
    "    , 3:'c'\n",
    "    , 4:'d'\n",
    "    , 5:'a'\n",
    "}\n",
    "\n",
    "print(f\"Value for key=4: {dict1[4]}\")"
   ]
  },
  {
   "cell_type": "markdown",
   "metadata": {},
   "source": [
    "<br>\n",
    "<a id=\"_accessing_based_on_value\"></a>\n",
    "\n",
    "#### <span style=\"color:white\">Accessing Based on Value</span> [<span style=\"color:#6185c9;font-size:10px\">(*Home*)</span>](#_dictionaries2)"
   ]
  },
  {
   "cell_type": "code",
   "execution_count": 10,
   "metadata": {},
   "outputs": [
    {
     "name": "stdout",
     "output_type": "stream",
     "text": [
      "[1, 5]\n",
      "\n",
      "[1, 5]\n",
      "\n"
     ]
    }
   ],
   "source": [
    "dict1 = {\n",
    "    1:'a'\n",
    "    , 2:'b'\n",
    "    , 3:'c'\n",
    "    , 4:'d'\n",
    "    , 5:'a'\n",
    "}\n",
    "\n",
    "\n",
    "\n",
    "# Via list comprehension (shorthand for looping into list)\n",
    "key_list = [key for key, value in dict1.items() if value=='a']\n",
    "print(f\"{key_list}\\n\")\n",
    "\n",
    "\n",
    "\n",
    "# Via regular old looping\n",
    "key_list = []\n",
    "for key, value in dict1.items():\n",
    "    if value == 'a':\n",
    "        key_list.append(key)\n",
    "print(f\"{key_list}\\n\")"
   ]
  },
  {
   "cell_type": "markdown",
   "metadata": {},
   "source": [
    "<hr style=\"border:dotted 1px\"><br>\n",
    "<a id=\"_modifying_dictionary\"></a>\n",
    "\n",
    "### <span style=\"color:#c58fff\">Modifying Dictionary</span> [<span style=\"color:#6185c9;font-size:10px\">(*Home*)</span>](#_dictionaries2)"
   ]
  },
  {
   "cell_type": "markdown",
   "metadata": {},
   "source": [
    "<br>\n",
    "<a id=\"_adding_dictionary_element\"></a>\n",
    "\n",
    "#### <span style=\"color:white\">Adding Element</span> [<span style=\"color:#6185c9;font-size:10px\">(*Home*)</span>](#_dictionaries2)\n",
    "\n",
    "Remember, key duplicates are not allowed. If an existing key is modified, the value will be updated with the new value specified for the key. If the key does not exist, then the new key:value pair will be added."
   ]
  },
  {
   "cell_type": "code",
   "execution_count": 20,
   "metadata": {},
   "outputs": [
    {
     "name": "stdout",
     "output_type": "stream",
     "text": [
      "{1: 'a', 2: 'b', 3: 'c', 4: 'd', 5: 'a', 6: 'e'}\n",
      "{1: 'a', 2: 'b', 3: 'c', 4: 'd', 5: 'a', 6: 'new value'}\n"
     ]
    }
   ],
   "source": [
    "dict1 = {\n",
    "    1:'a'\n",
    "    , 2:'b'\n",
    "    , 3:'c'\n",
    "    , 4:'d'\n",
    "    , 5:'a'\n",
    "}\n",
    "\n",
    "\n",
    "# Adding non-existing key:value pair\n",
    "dict1[6] = 'e'\n",
    "\n",
    "print(f\"{dict1}\")\n",
    "\n",
    "\n",
    "# Adding existing key will overwrite the value\n",
    "dict1[6] = 'new value'\n",
    "\n",
    "print(f\"{dict1}\")"
   ]
  },
  {
   "cell_type": "markdown",
   "metadata": {},
   "source": [
    "<br>\n",
    "<a id=\"_removing_dictionary_element\"></a>\n",
    "\n",
    "#### <span style=\"color:white\">Removing Element</span> [<span style=\"color:#6185c9;font-size:10px\">(*Home*)</span>](#_dictionaries2)\n",
    "\n",
    "<ul>\n",
    "    <li>Not specifying a key when using <b>del</b> will delete the entire dictionary!\n",
    "    <li>If non-existing key is specified, an exception is thrown.\n",
    "</ul>"
   ]
  },
  {
   "cell_type": "code",
   "execution_count": 60,
   "metadata": {},
   "outputs": [
    {
     "name": "stdout",
     "output_type": "stream",
     "text": [
      "{1: 'a', 2: 'b', 3: 'c', 4: 'd'}\n",
      "\n",
      "Key not found!\n",
      "\n",
      "{}\n"
     ]
    }
   ],
   "source": [
    "dict1 = {\n",
    "    1:'a'\n",
    "    , 2:'b'\n",
    "    , 3:'c'\n",
    "    , 4:'d'\n",
    "    , 5:'a'\n",
    "}\n",
    "\n",
    "\n",
    "del dict1[5]  ## !! Not specifying the key will delete the entire dictionary !!\n",
    "\n",
    "print(f\"{dict1}\\n\")\n",
    "\n",
    "\n",
    "\n",
    "# If key does not exist, exception is thrown\n",
    "try:\n",
    "    del dict1[5]\n",
    "    print(f\"{dict1}\")\n",
    "    \n",
    "except KeyError:\n",
    "    print(f\"Key not found!\\n\")\n",
    "    \n",
    "    \n",
    "\n",
    "# clear all items from dictionary\n",
    "dict1.clear()\n",
    "print(f\"{dict1}\")"
   ]
  },
  {
   "cell_type": "markdown",
   "metadata": {},
   "source": [
    "<br>\n",
    "<a id=\"_modifying_dictionary_element\"></a>\n",
    "\n",
    "#### <span style=\"color:white\">Modifying Element</span> [<span style=\"color:#6185c9;font-size:10px\">(*Home*)</span>](#_dictionaries2)\n",
    "\n",
    "<ul>\n",
    "    <li>If non-existing key is specified, new key:value will be created!\n",
    "</ul>"
   ]
  },
  {
   "cell_type": "code",
   "execution_count": 4,
   "metadata": {},
   "outputs": [
    {
     "name": "stdout",
     "output_type": "stream",
     "text": [
      "{1: 'a', 2: 'b', 3: 'c', 4: 'd', 5: 'e'}\n",
      "{1: 'a', 2: 'b', 3: 'c', 4: 'd', 5: 'e', 6: 'f'}\n"
     ]
    }
   ],
   "source": [
    "dict1 = {\n",
    "    1:'a'\n",
    "    , 2:'b'\n",
    "    , 3:'c'\n",
    "    , 4:'d'\n",
    "    , 5:'a'\n",
    "}\n",
    "\n",
    "\n",
    "# If key exists, will overwrite the value.\n",
    "dict1[5] = 'e'\n",
    "\n",
    "print(f\"{dict1}\")\n",
    "\n",
    "\n",
    "\n",
    "# If key does not exist, new key:value created!\n",
    "dict1[6] = 'f'\n",
    "\n",
    "print(f\"{dict1}\")\n",
    "    "
   ]
  },
  {
   "cell_type": "markdown",
   "metadata": {},
   "source": [
    "<br>\n",
    "<a id=\"_deleting_dictionary\"></a>\n",
    "\n",
    "#### <span style=\"color:white\">Deleting Dictionary</span> [<span style=\"color:#6185c9;font-size:10px\">(*Home*)</span>](#_dictionaries2)"
   ]
  },
  {
   "cell_type": "code",
   "execution_count": 62,
   "metadata": {},
   "outputs": [
    {
     "name": "stdout",
     "output_type": "stream",
     "text": [
      "dict1 not found!\n"
     ]
    }
   ],
   "source": [
    "dict1 = {\n",
    "    1:'a'\n",
    "    , 2:'b'\n",
    "    , 3:'c'\n",
    "    , 4:'d'\n",
    "    , 5:'a'\n",
    "}\n",
    "\n",
    "del dict1\n",
    "\n",
    "\n",
    "try:\n",
    "    print(f\"{dict1}\")\n",
    "except:\n",
    "    print(f\"dict1 not found!\")\n",
    "    "
   ]
  },
  {
   "cell_type": "markdown",
   "metadata": {},
   "source": [
    "<hr style=\"border:dotted 1px\"><br>\n",
    "<a id=\"_analyzing_dictionary\"></a>\n",
    "\n",
    "### <span style=\"color:#c58fff\">Analyzing Dictionary</span> [<span style=\"color:#6185c9;font-size:10px\">(*Home*)</span>](#_dictionaries2)"
   ]
  },
  {
   "cell_type": "markdown",
   "metadata": {},
   "source": [
    "<br>\n",
    "<a id=\"_length_of_dictionary\"></a>\n",
    "\n",
    "#### <span style=\"color:white\">Length of Dictionary</span> [<span style=\"color:#6185c9;font-size:10px\">(*Home*)</span>](#_dictionaries2)"
   ]
  },
  {
   "cell_type": "code",
   "execution_count": 63,
   "metadata": {},
   "outputs": [
    {
     "data": {
      "text/plain": [
       "5"
      ]
     },
     "execution_count": 63,
     "metadata": {},
     "output_type": "execute_result"
    }
   ],
   "source": [
    "dict1 = {\n",
    "    1:'a'\n",
    "    , 2:'b'\n",
    "    , 3:'c'\n",
    "    , 4:'d'\n",
    "    , 5:'a'\n",
    "}\n",
    "\n",
    "len(dict1)"
   ]
  },
  {
   "cell_type": "markdown",
   "metadata": {},
   "source": [
    "<br>\n",
    "<a id=\"_sum_of_dictionary\"></a>\n",
    "\n",
    "#### <span style=\"color:white\">Sum of Dictionary</span> [<span style=\"color:#6185c9;font-size:10px\">(*Home*)</span>](#_dictionaries2)"
   ]
  },
  {
   "cell_type": "code",
   "execution_count": 75,
   "metadata": {},
   "outputs": [
    {
     "data": {
      "text/plain": [
       "53.14"
      ]
     },
     "execution_count": 75,
     "metadata": {},
     "output_type": "execute_result"
    }
   ],
   "source": [
    "dict1 = {\n",
    "    1:10\n",
    "    , 2:20\n",
    "    , 3:30\n",
    "    , 4:'a'\n",
    "    , 5:-10\n",
    "    , 6:3.14\n",
    "}\n",
    "\n",
    "num_list = [value for value in dict1.values() if type(value)==float or type(value)==int]\n",
    "\n",
    "sum(num_list)"
   ]
  },
  {
   "cell_type": "markdown",
   "metadata": {},
   "source": [
    "<br>\n",
    "<a id=\"_looping_through_dictionary\"></a>\n",
    "\n",
    "#### <span style=\"color:white\">Looping Through Dictionary</span> [<span style=\"color:#6185c9;font-size:10px\">(*Home*)</span>](#_dictionaries2)"
   ]
  },
  {
   "cell_type": "markdown",
   "metadata": {},
   "source": [
    "<br>\n",
    "\n",
    "Looping through key, values"
   ]
  },
  {
   "cell_type": "code",
   "execution_count": 79,
   "metadata": {},
   "outputs": [
    {
     "name": "stdout",
     "output_type": "stream",
     "text": [
      "key[1] : value[10]\n",
      "key[2] : value[20]\n",
      "key[3] : value[30]\n",
      "key[4] : value[a]\n",
      "key[5] : value[-10]\n",
      "key[6] : value[3.14]\n"
     ]
    }
   ],
   "source": [
    "dict1 = {\n",
    "    1:10\n",
    "    , 2:20\n",
    "    , 3:30\n",
    "    , 4:'a'\n",
    "    , 5:-10\n",
    "    , 6:3.14\n",
    "}\n",
    "\n",
    "for key, value in dict1.items():\n",
    "    print(f\"key[{key}] : value[{value}]\")"
   ]
  },
  {
   "cell_type": "markdown",
   "metadata": {},
   "source": [
    "<br>\n",
    "\n",
    "Looping through keys"
   ]
  },
  {
   "cell_type": "code",
   "execution_count": 80,
   "metadata": {},
   "outputs": [
    {
     "name": "stdout",
     "output_type": "stream",
     "text": [
      "key[1]\n",
      "key[2]\n",
      "key[3]\n",
      "key[4]\n",
      "key[5]\n",
      "key[6]\n"
     ]
    }
   ],
   "source": [
    "dict1 = {\n",
    "    1:10\n",
    "    , 2:20\n",
    "    , 3:30\n",
    "    , 4:'a'\n",
    "    , 5:-10\n",
    "    , 6:3.14\n",
    "}\n",
    "\n",
    "for key in dict1.keys():\n",
    "    print(f\"key[{key}]\")"
   ]
  },
  {
   "cell_type": "markdown",
   "metadata": {},
   "source": [
    "<br>\n",
    "\n",
    "Looping through values"
   ]
  },
  {
   "cell_type": "code",
   "execution_count": 81,
   "metadata": {},
   "outputs": [
    {
     "name": "stdout",
     "output_type": "stream",
     "text": [
      "value[10]\n",
      "value[20]\n",
      "value[30]\n",
      "value[a]\n",
      "value[-10]\n",
      "value[3.14]\n"
     ]
    }
   ],
   "source": [
    "dict1 = {\n",
    "    1:10\n",
    "    , 2:20\n",
    "    , 3:30\n",
    "    , 4:'a'\n",
    "    , 5:-10\n",
    "    , 6:3.14\n",
    "}\n",
    "\n",
    "for value in dict1.values():\n",
    "    print(f\"value[{value}]\")"
   ]
  },
  {
   "cell_type": "markdown",
   "metadata": {},
   "source": [
    "***\n",
    "***\n",
    "\n",
    "<br><br>\n",
    "\n",
    "<a id='_working_with_files'></a>\n",
    "\n",
    "# <span style=\"color:#bcff8f\">Working with Files</span> [<span style=\"color:#6185c9;font-size:10px\">(*Home*)</span>](#_working_with_files2)"
   ]
  },
  {
   "cell_type": "markdown",
   "metadata": {},
   "source": [
    "<br>\n",
    "\n",
    "Set Working Directory"
   ]
  },
  {
   "cell_type": "code",
   "execution_count": 87,
   "metadata": {},
   "outputs": [
    {
     "name": "stdout",
     "output_type": "stream",
     "text": [
      "C:\\Users\\patwea\\OneDrive - Bellevue University\\Bellevue_University\\Python\\JupyterBU\n"
     ]
    }
   ],
   "source": [
    "import os\n",
    "\n",
    "path = os.path.expanduser('~') + '\\\\OneDrive - Bellevue University\\\\Bellevue_University\\\\Python\\\\JupyterBU'\n",
    "\n",
    "os.chdir(path)\n",
    "\n",
    "print(os.getcwd())"
   ]
  },
  {
   "cell_type": "markdown",
   "metadata": {},
   "source": [
    "<img src=\"ipynb Files/Text IO Decision Tree.png\">"
   ]
  },
  {
   "cell_type": "markdown",
   "metadata": {},
   "source": [
    "<br>\n",
    "<a id=\"_text_files\"></a>\n",
    "\n",
    "### <span style=\"color:#c58fff\">Text Files</span> [<span style=\"color:#6185c9;font-size:10px\">(*Home*)</span>](#_working_with_files2)"
   ]
  },
  {
   "cell_type": "markdown",
   "metadata": {},
   "source": [
    "<br>\n",
    "<a id=\"_reading_text_file\"></a>\n",
    "\n",
    "#### <span style=\"color:white\">Reading Text File</span> [<span style=\"color:#6185c9;font-size:10px\">(*Home*)</span>](#_working_with_files2)"
   ]
  },
  {
   "cell_type": "code",
   "execution_count": 93,
   "metadata": {},
   "outputs": [
    {
     "name": "stdout",
     "output_type": "stream",
     "text": [
      "ID\tName\tSex\n",
      "1\tPatrick\tMale\n",
      "2\tLeigha\tFemale\n",
      "3\tBlake\tMale\n"
     ]
    }
   ],
   "source": [
    "with open('ipynb Files\\\\Family.txt', 'r') as file:\n",
    "    for line in file:\n",
    "        print(line.replace('\\n',''))"
   ]
  },
  {
   "cell_type": "markdown",
   "metadata": {},
   "source": [
    "<br>\n",
    "<a id=\"_creating_new_text_file\"></a>\n",
    "\n",
    "#### <span style=\"color:white\">Creating New Text File</span> [<span style=\"color:#6185c9;font-size:10px\">(*Home*)</span>](#_working_with_files2)"
   ]
  },
  {
   "cell_type": "code",
   "execution_count": 7,
   "metadata": {},
   "outputs": [],
   "source": [
    "# Creating a blank file\n",
    "with open('ipynb Files\\\\blank_file.txt', 'w+') as file:\n",
    "    pass\n",
    "\n",
    "\n",
    "# Creating a copy of another file\n",
    "with open('ipynb Files\\\\Family.txt', 'r+') as parent_file:\n",
    "    with open('ipynb Files\\\\Family_(copy).txt', 'w+') as copy_file:\n",
    "        for line in parent_file:\n",
    "            copy_file.write(line)"
   ]
  },
  {
   "cell_type": "markdown",
   "metadata": {},
   "source": [
    "<br>\n",
    "<a id=\"_modifying_text_file\"></a>\n",
    "\n",
    "#### <span style=\"color:white\">Modifying Text File</span> [<span style=\"color:#6185c9;font-size:10px\">(*Home*)</span>](#_working_with_files2)"
   ]
  },
  {
   "cell_type": "code",
   "execution_count": 158,
   "metadata": {},
   "outputs": [
    {
     "name": "stdout",
     "output_type": "stream",
     "text": [
      "Old file:\n",
      "ID\tName\tSex\n",
      "1\tPatrick\tMale\n",
      "2\tLeigha\tFemale\n",
      "3\tBlake\tMale\n",
      "\n",
      "New file:\n",
      "ID\tName\tSex\n",
      "1\tPatrick\tMale\n",
      "2\tLeigha\tFemale\n",
      "3\tBlake\tMale\n",
      "4\tGizmo\tFemale\n"
     ]
    }
   ],
   "source": [
    "nl = '\\n'\n",
    "d = '\\t'\n",
    "header = f\"ID{d}Name{d}Sex{nl}\"\n",
    "\n",
    "with open('ipynb Files\\\\Family.txt', 'r+') as file: # tab delimited text file\n",
    "\n",
    "    # reading file to see what it looks like\n",
    "    print(f\"Old file:\")\n",
    "    for line in file:\n",
    "        print(line.replace('\\n',''))\n",
    "\n",
    "\n",
    "    # writing new line to file\n",
    "    print(f\"{nl}New file:\")\n",
    "    file.write(f\"4{d}Gizmo{d}Female\")  # writing to file\n",
    "    file.seek(0,0)  # return to beginning of file\n",
    "    for line in file:\n",
    "        print(line.replace('\\n',''))\n",
    "\n",
    "        \n",
    "    # changing file back to the way it was\n",
    "    file.seek(0,0)  # return to beginning of file\n",
    "    file.truncate()  # truncate file. If no argument present, default is to truncate to current position in file.\n",
    "    file.write(header)\n",
    "    file.write(f\"1{d}Patrick{d}Male{nl}\")\n",
    "    file.write(f\"2{d}Leigha{d}Female{nl}\")\n",
    "    file.write(f\"3{d}Blake{d}Male{nl}\")\n",
    "    \n",
    "    "
   ]
  },
  {
   "cell_type": "markdown",
   "metadata": {},
   "source": [
    "<hr style=\"border:dotted 1px\"><br>\n",
    "<a id=\"_excel_files\"></a>\n",
    "\n",
    "### <span style=\"color:#c58fff\">Excel Files</span> [<span style=\"color:#6185c9;font-size:10px\">(*Home*)</span>](#_working_with_files2)"
   ]
  },
  {
   "cell_type": "markdown",
   "metadata": {},
   "source": [
    "\n",
    "<a id=\"_reading_excel_file\"></a>\n",
    "\n",
    "#### <span style=\"color:white\">Reading Excel File</span> [<span style=\"color:#6185c9;font-size:10px\">(*Home*)</span>](#_working_with_files2)"
   ]
  },
  {
   "cell_type": "markdown",
   "metadata": {},
   "source": [
    "<br>\n",
    "\n",
    "Using Pandas reading into Data Frame"
   ]
  },
  {
   "cell_type": "code",
   "execution_count": 164,
   "metadata": {},
   "outputs": [
    {
     "data": {
      "text/html": [
       "<div>\n",
       "<style scoped>\n",
       "    .dataframe tbody tr th:only-of-type {\n",
       "        vertical-align: middle;\n",
       "    }\n",
       "\n",
       "    .dataframe tbody tr th {\n",
       "        vertical-align: top;\n",
       "    }\n",
       "\n",
       "    .dataframe thead th {\n",
       "        text-align: right;\n",
       "    }\n",
       "</style>\n",
       "<table border=\"1\" class=\"dataframe\">\n",
       "  <thead>\n",
       "    <tr style=\"text-align: right;\">\n",
       "      <th></th>\n",
       "      <th>ID</th>\n",
       "      <th>Name</th>\n",
       "      <th>Sex</th>\n",
       "    </tr>\n",
       "  </thead>\n",
       "  <tbody>\n",
       "    <tr>\n",
       "      <th>0</th>\n",
       "      <td>1</td>\n",
       "      <td>Patrick</td>\n",
       "      <td>Male</td>\n",
       "    </tr>\n",
       "    <tr>\n",
       "      <th>1</th>\n",
       "      <td>2</td>\n",
       "      <td>Leigha</td>\n",
       "      <td>Female</td>\n",
       "    </tr>\n",
       "    <tr>\n",
       "      <th>2</th>\n",
       "      <td>3</td>\n",
       "      <td>Blake</td>\n",
       "      <td>Male</td>\n",
       "    </tr>\n",
       "  </tbody>\n",
       "</table>\n",
       "</div>"
      ],
      "text/plain": [
       "   ID     Name     Sex\n",
       "0   1  Patrick    Male\n",
       "1   2   Leigha  Female\n",
       "2   3    Blake    Male"
      ]
     },
     "execution_count": 164,
     "metadata": {},
     "output_type": "execute_result"
    }
   ],
   "source": [
    "import pandas as pd\n",
    "\n",
    "file = 'ipynb Files\\\\Family.xlsx'\n",
    "\n",
    "pd.read_excel(file, sheet_name='Family')"
   ]
  },
  {
   "cell_type": "markdown",
   "metadata": {},
   "source": [
    "<br>\n",
    "\n",
    "Using openpyxl"
   ]
  },
  {
   "cell_type": "code",
   "execution_count": 134,
   "metadata": {},
   "outputs": [
    {
     "name": "stdout",
     "output_type": "stream",
     "text": [
      "Row Iteration Storage:\n",
      "Row: 3 ['ID', 'Name', 'Sex']\n",
      "Row: 4 [1, 'Patrick', 'Male']\n",
      "Row: 5 [2, 'Leigha', 'Female']\n",
      "Row: 6 [3, 'Blake', 'Male']\n",
      "\n",
      "Column Iteration Storage:\n",
      "Column: ID [1, 2, 3]\n",
      "Column: Name ['Patrick', 'Leigha', 'Blake']\n",
      "Column: Sex ['Male', 'Female', 'Male']\n"
     ]
    }
   ],
   "source": [
    "import openpyxl as oxl\n",
    "from openpyxl.utils import get_column_letter\n",
    "\n",
    "file = 'ipynb Files\\\\Family.xlsx'\n",
    "\n",
    "wb = oxl.load_workbook(file)  # access specific file\n",
    "\n",
    "ws = wb['Family (no table)']  # access specific sheet in file\n",
    "\n",
    "excel_row_dict = {}\n",
    "excel_col_dict = {}\n",
    "row_list = []\n",
    "row_count = 0\n",
    "\n",
    "# Dictionary for row iterations\n",
    "for row in ws.iter_rows(min_row=3): # no values in row 1 & 2 so start at 3\n",
    "    row_list = [cell.value for cell in row]\n",
    "    row_num = row_count + ws.min_row\n",
    "    row_count+=1\n",
    "    excel_row_dict[row_num] = row_list\n",
    "       \n",
    "print(f\"Row Iteration Storage:\")\n",
    "for row_num, row_vals in excel_row_dict.items():\n",
    "    print(f\"Row: {row_num} {row_vals}\")\n",
    "    \n",
    "    \n",
    "# Dictionary for column iterations\n",
    "for col in ws.iter_cols(min_row=3):\n",
    "    col_list = [cell.value for cell in col]\n",
    "    excel_col_dict[col_list[0]] = col_list[1:]\n",
    "    \n",
    "print(f\"\\nColumn Iteration Storage:\")\n",
    "for col, col_vals in excel_col_dict.items():\n",
    "    print(f\"Column: {col} {col_vals}\")\n",
    "        \n",
    "    "
   ]
  },
  {
   "cell_type": "markdown",
   "metadata": {},
   "source": [
    "<br>\n",
    "<a id=\"_modifying_excel_file\"></a>\n",
    "\n",
    "#### <span style=\"color:white\">Modifying Excel File</span> [<span style=\"color:#6185c9;font-size:10px\">(*Home*)</span>](#_working_with_files2)"
   ]
  },
  {
   "cell_type": "code",
   "execution_count": 239,
   "metadata": {},
   "outputs": [
    {
     "name": "stdout",
     "output_type": "stream",
     "text": [
      "Current data in file:\n",
      "3: ['ID', 'Name', 'Sex']\n",
      "4: [1, 'Patrick', 'Male']\n",
      "5: [2, 'Leigha', 'Female']\n",
      "6: [3, 'Blake', 'Male']\n",
      "\n",
      "Data in file after row add:\n",
      "3: ['ID', 'Name', 'Sex']\n",
      "4: [1, 'Patrick', 'Male']\n",
      "5: [2, 'Leigha', 'Female']\n",
      "6: [3, 'Blake', 'Male']\n",
      "7: [4, 'Gizmo', 'Female']\n"
     ]
    }
   ],
   "source": [
    "import openpyxl as oxl\n",
    "from openpyxl.utils import get_column_letter\n",
    "\n",
    "file = 'ipynb Files\\\\Family.xlsx'\n",
    "\n",
    "wb = oxl.load_workbook(file)  # access specific file\n",
    "\n",
    "ws = wb['Family (no table)']  # access specific sheet in file\n",
    "\n",
    "\n",
    "# Create function to delete list of row numbers provided and save file\n",
    "def del_rows(ws, rows_to_del, file):\n",
    "    if type(rows_to_del) is int:\n",
    "        ws.delete_rows(rows_to_del)\n",
    "    else:\n",
    "        for row_to_del in rows_to_del:\n",
    "            ws.delete_rows(row_to_del)\n",
    "    wb.save(file)\n",
    "\n",
    "\n",
    "\n",
    "# View current data\n",
    "print(f\"Current data in file:\")\n",
    "row_count = 0\n",
    "for row in ws.iter_rows(min_row=3):\n",
    "    row_list = [cell.value for cell in row]\n",
    "    row_num = row_count + ws.min_row\n",
    "    row_count+=1\n",
    "    print(f\"{row_num}: {row_list}\")\n",
    "\n",
    "# Append new data to the file\n",
    "ws.append([4,'Gizmo','Female'])  \n",
    "wb.save('ipynb Files\\\\Family.xlsx')\n",
    "\n",
    "\n",
    "excel_row_dict = {}\n",
    "row_count = 0\n",
    "\n",
    "# View data after row add\n",
    "print(f\"\\nData in file after row add:\")\n",
    "for row in ws.iter_rows(min_row=3):\n",
    "    row_list = [cell.value for cell in row]\n",
    "    row_num = row_count + ws.min_row\n",
    "    row_count+=1\n",
    "    excel_row_dict[row_num] = row_list\n",
    "    \n",
    "for row_num, row_vals in excel_row_dict.items():\n",
    "    print(f\"{row_num}: {row_vals}\")\n",
    "    \n",
    "        \n",
    "rows_to_del = [7]\n",
    "del_rows(ws, rows_to_del, file)"
   ]
  },
  {
   "cell_type": "markdown",
   "metadata": {
    "tags": []
   },
   "source": [
    "***\n",
    "***\n",
    "\n",
    "<br><br>\n",
    "\n",
    "<a id='_exception_handling'></a>\n",
    "\n",
    "# <span style=\"color:#bcff8f\">Exception Handling</span> [<span style=\"color:#6185c9;font-size:10px\">(*Home*)</span>](#_exception_handling2)"
   ]
  },
  {
   "cell_type": "markdown",
   "metadata": {},
   "source": [
    "<span style=\"color:#419244\">try</span>:<br>\n",
    "       # Some Code.... \n",
    "\n",
    "<span style=\"color:#419244\">except</span>:<br>\n",
    "       # optional block\n",
    "       # Handling of exception (if required)\n",
    "\n",
    "<span style=\"color:#419244\">else</span>:<br>\n",
    "       # execute if no exception\n",
    "\n",
    "<span style=\"color:#419244\">finally</span>:<br>\n",
    "      # Some code .....(always executed)"
   ]
  },
  {
   "cell_type": "markdown",
   "metadata": {},
   "source": [
    "<hr style=\"border:dotted 1px\"><br>\n",
    "<a id=\"_try_then_else_finally\"></a>\n",
    "\n",
    "### <span style=\"color:#c58fff\">try, then, else, finally</span> [<span style=\"color:#6185c9;font-size:10px\">(*Home*)</span>](#_exception_handling2)"
   ]
  },
  {
   "cell_type": "code",
   "execution_count": 2,
   "metadata": {},
   "outputs": [
    {
     "name": "stdin",
     "output_type": "stream",
     "text": [
      "Enter a number:  1\n"
     ]
    },
    {
     "name": "stdout",
     "output_type": "stream",
     "text": [
      "...\"try\" statement successful\n",
      "...code runs for \"else\" statement if \"try\" statement successful\n",
      "...code always runs for \"finally\" statement\n"
     ]
    }
   ],
   "source": [
    "user_input = input('Enter a number: ')\n",
    "\n",
    "try:\n",
    "    float(user_input)\n",
    "    print(f'...\"try\" statement successful')\n",
    "except:\n",
    "    print(f'...\"try\" statement failed...code ran for \"except\" statement')\n",
    "else:\n",
    "    print('...code runs for \"else\" statement if \"try\" statement successful')\n",
    "finally:\n",
    "    print('...code always runs for \"finally\" statement')"
   ]
  },
  {
   "cell_type": "markdown",
   "metadata": {},
   "source": [
    "***\n",
    "***\n",
    "\n",
    "<br><br>\n",
    "\n",
    "<a id='_classes_'></a>\n",
    "\n",
    "# <span style=\"color:#bcff8f\">Classes</span> [<span style=\"color:#6185c9;font-size:10px\">(*Home*)</span>](#_classes_2)\n",
    "\n",
    "A class is a user-defined blueprint or prototype from which objects are created. Classes provide a means of bundling data and functionality together. Creating a new class creates a new type of object, allowing new instances of that type to be made. Each class instance can have attributes attached to it for maintaining its state. Class instances can also have methods (defined by their class) for modifying their state. (GeeksForGeeks.org)"
   ]
  },
  {
   "cell_type": "markdown",
   "metadata": {},
   "source": [
    "<hr style=\"border:dotted 1px\"><br>\n",
    "<a id=\"_creating_a_class\"></a>\n",
    "\n",
    "### <span style=\"color:#c58fff\">Creating a Class</span> [<span style=\"color:#6185c9;font-size:10px\">(*Home*)</span>](#_classes_2)"
   ]
  },
  {
   "cell_type": "code",
   "execution_count": 56,
   "metadata": {},
   "outputs": [
    {
     "name": "stdout",
     "output_type": "stream",
     "text": [
      "First\t\tLast\t\t\tDOB\n",
      "Patrick\t\tWeatherford\t\t10/18/1989\n",
      "Leigha\t\tWeatherford\t\t10/04/1989\n"
     ]
    }
   ],
   "source": [
    "import datetime as dt\n",
    "\n",
    "nl = '\\n'\n",
    "\n",
    "# create name for class\n",
    "class Person:\n",
    "    \n",
    "    # class instance creation blueprint\n",
    "    def __init__(self, first, last, dob_str):\n",
    "        self.first = first\n",
    "        self.last = last\n",
    "        self.dob_str = dob_str\n",
    "        \n",
    "        \n",
    "# creating an instance of class Person\n",
    "p1 = Person('Patrick', 'Weatherford', '10/18/1989')\n",
    "p2 = Person('Leigha', 'Weatherford', '10/04/1989')\n",
    "\n",
    "\n",
    "# print class instances\n",
    "print(f\"First\\t\\tLast\\t\\t\\tDOB\")\n",
    "print(f\"{p1.first}\\t\\t{p1.last}\\t\\t{p1.dob_str}\")\n",
    "print(f\"{p2.first}\\t\\t{p2.last}\\t\\t{p2.dob_str}\")"
   ]
  },
  {
   "cell_type": "markdown",
   "metadata": {},
   "source": [
    "<hr style=\"border:dotted 1px\"><br>\n",
    "<a id=\"_class_instance_totals\"></a>\n",
    "\n",
    "### <span style=\"color:#c58fff\">Class Instance Totals</span> [<span style=\"color:#6185c9;font-size:10px\">(*Home*)</span>](#_classes_2)"
   ]
  },
  {
   "cell_type": "code",
   "execution_count": 23,
   "metadata": {},
   "outputs": [
    {
     "name": "stdout",
     "output_type": "stream",
     "text": [
      "Beginning total: 0\n",
      "After adding 3 objects: 3\n",
      "After removing 1 object: 2\n"
     ]
    }
   ],
   "source": [
    "class Person:\n",
    "    \n",
    "    total_obj = 0\n",
    "    \n",
    "    def __init__(self, first):\n",
    "        self.first = first\n",
    "        Person.total_obj += 1\n",
    "        \n",
    "        \n",
    "    def __del__(self):\n",
    "        Person.total_obj -= 1\n",
    "        \n",
    "print(f\"Beginning total: {Person.total_obj}\")\n",
    "\n",
    "p1 = Person('Patrick')\n",
    "p2 = Person('Leigha')\n",
    "p3 = Person('Gizmo')\n",
    "\n",
    "print(f\"After adding 3 objects: {Person.total_obj}\")\n",
    "\n",
    "del p3\n",
    "\n",
    "print(f\"After removing 1 object: {Person.total_obj}\")\n",
    "\n",
    "\n",
    "del p1, p2  # reset the class to 0 instances\n",
    "\n",
    "\n",
    "\n",
    "\n",
    "        "
   ]
  },
  {
   "cell_type": "markdown",
   "metadata": {},
   "source": [
    "<hr style=\"border:dotted 1px\"><br>\n",
    "<a id=\"_regular_methods\"></a>\n",
    "\n",
    "### <span style=\"color:#c58fff\">Regular Methods</span> [<span style=\"color:#6185c9;font-size:10px\">(*Home*)</span>](#_classes_2)\n",
    "\n",
    "Function for instance of class. They are used to do some kind of action on a particular instance of a class. If variable used in the method then will first search the instance of the class, then the class, then any other superseding inherited classes based on Method Resolution Order (MRO). "
   ]
  },
  {
   "cell_type": "code",
   "execution_count": 17,
   "metadata": {},
   "outputs": [
    {
     "name": "stdout",
     "output_type": "stream",
     "text": [
      "First\t\tLast\t\tDOB\t\tOld Pay\t\tRaise Amt.\tNew Pay\n",
      "Patrick\t\tWeatherford\t1989-10-18\t20000\t\t1.0\t\t20000.0\n",
      "Leigha\t\tWeatherford\t1989-10-04\t30000\t\t1.05\t\t31500.0\n"
     ]
    }
   ],
   "source": [
    "import datetime as dt\n",
    "\n",
    "nl = '\\n'\n",
    "\n",
    "# create name for class\n",
    "class Person:\n",
    "    \n",
    "    raise_amt = 1.05\n",
    "    \n",
    "    # class instance creation blueprint\n",
    "    def __init__(self, first, last, dob_str, pay):\n",
    "        self.first = first\n",
    "        self.last = last\n",
    "        self.dob_str = dob_str\n",
    "        self.pay = pay\n",
    "        \n",
    "        \n",
    "### !!REGULAR METHOD CREATION BELOW!! ##########################\n",
    "    \n",
    "    # Take dob (string) and convert to dob (date)\n",
    "    def dob_date(self):\n",
    "        return dt.datetime.strptime(self.dob_str, \"%m/%d/%Y\").date()\n",
    "    \n",
    "    # Multiple pay * raise_amt. Based on method resolution order (MRO), python will first check the instance, then the class, then inherited classes based on MRO\n",
    "    def pay_raise(self):\n",
    "        result = (self.pay * self.raise_amt)\n",
    "        return result\n",
    "    \n",
    "################################################################\n",
    "        \n",
    "        \n",
    "        \n",
    "# creating an instance of class Person\n",
    "p1 = Person('Patrick', 'Weatherford', '10/18/1989', 20000)\n",
    "p2 = Person('Leigha', 'Weatherford', '10/04/1989', 30000)\n",
    "\n",
    "\n",
    "# print class instances\n",
    "print(f\"First\\t\\tLast\\t\\tDOB\\t\\tOld Pay\\t\\tRaise Amt.\\tNew Pay\")\n",
    "p1.raise_amt = 1.0  # raise_amt previously only existed for Class but now exists for the instance and is different.\n",
    "print(f\"{p1.first}\\t\\t{p1.last}\\t{p1.dob_date()}\\t{p1.pay}\\t\\t{p1.raise_amt}\\t\\t{p1.pay_raise()}\")\n",
    "print(f\"{p2.first}\\t\\t{p2.last}\\t{p2.dob_date()}\\t{p2.pay}\\t\\t{p2.raise_amt}\\t\\t{p2.pay_raise()}\")\n",
    "\n",
    "\n"
   ]
  },
  {
   "cell_type": "markdown",
   "metadata": {},
   "source": [
    "<hr style=\"border:dotted 1px\"><br>\n",
    "<a id=\"_class_methods\"></a>\n",
    "\n",
    "### <span style=\"color:#c58fff\">Class Methods</span> [<span style=\"color:#6185c9;font-size:10px\">(*Home*)</span>](#_classes_2)\n",
    "\n",
    "Function for the class. They are used to do some kind of action on the class itself. For example, there may be a class variable that you want to change or maybe you want another method to construct an instance (aka class method as alternative constructor)."
   ]
  },
  {
   "cell_type": "code",
   "execution_count": 25,
   "metadata": {},
   "outputs": [
    {
     "name": "stdout",
     "output_type": "stream",
     "text": [
      "First\t\tLast\t\tDOB\t\tPay\tRaise amt.\n",
      "Patrick\t\tWeatherford\t10/18/1989\t20000\t1.05\n",
      "Leigha\t\tWeatherford\t10/04/1989\t30000\t1.05\n",
      "\n",
      "\n",
      "Person.raise_amt succsefully changed from 1.05 to 1.1!\n",
      "\n",
      "\n",
      "First\t\tLast\t\tDOB\t\tPay\tRaise amt.\n",
      "Patrick\t\tWeatherford\t10/18/1989\t20000\t1.1\n",
      "Leigha\t\tWeatherford\t10/04/1989\t30000\t1.1\n"
     ]
    }
   ],
   "source": [
    "import datetime as dt\n",
    "\n",
    "nl = '\\n'\n",
    "\n",
    "# create name for class\n",
    "class Person:\n",
    "    \n",
    "    raise_amt = 1.05\n",
    "    \n",
    "    # class instance creation blueprint\n",
    "    def __init__(self, first, last, dob_str, pay):\n",
    "        self.first = first\n",
    "        self.last = last\n",
    "        self.dob_str = dob_str\n",
    "        self.pay = pay\n",
    "        \n",
    "        \n",
    "### !!CLASS METHOD CREATION BELOW!! ##########################\n",
    "    \n",
    "    # Modifying Class variable\n",
    "    @classmethod\n",
    "    def chg_raise_amt(cls, input_amt):\n",
    "        old_amt = cls.raise_amt\n",
    "        try:\n",
    "            cls.raise_amt = input_amt\n",
    "            print(f\"Person.raise_amt succsefully changed from {old_amt} to {input_amt}!\\n\\n\")\n",
    "        except:\n",
    "            print(f\"Person.raise_amt updated failed!\\n\\n\")\n",
    "    \n",
    "    \n",
    "    # Using Class method as an alternative constructor\n",
    "    @classmethod\n",
    "    def str_person(cls, person_str, delim):\n",
    "        first, last, dob_str, pay = person_str.split(delim)\n",
    "        pay = int(pay)\n",
    "        return cls(first, last, dob_str, pay)\n",
    "    \n",
    "################################################################\n",
    "\n",
    "\n",
    "\n",
    "\n",
    "p1 = Person('Patrick', 'Weatherford', '10/18/1989', 20000)\n",
    "p2 = Person.str_person('Leigha-Weatherford-10/04/1989-30000', delim='-') # creating instance using Class method as alternative constructor\n",
    "\n",
    "print(f\"First\\t\\tLast\\t\\tDOB\\t\\tPay\\tRaise amt.\")\n",
    "print(f\"{p1.first}\\t\\t{p1.last}\\t{p1.dob_str}\\t{p1.pay}\\t{p1.raise_amt}\")\n",
    "print(f\"{p2.first}\\t\\t{p2.last}\\t{p2.dob_str}\\t{p2.pay}\\t{p2.raise_amt}\\n\\n\")\n",
    "\n",
    "# Updating Class variable for raise_amt via Class method\n",
    "Person.chg_raise_amt(1.10)\n",
    "\n",
    "print(f\"First\\t\\tLast\\t\\tDOB\\t\\tPay\\tRaise amt.\")\n",
    "print(f\"{p1.first}\\t\\t{p1.last}\\t{p1.dob_str}\\t{p1.pay}\\t{p1.raise_amt}\")\n",
    "print(f\"{p2.first}\\t\\t{p2.last}\\t{p2.dob_str}\\t{p2.pay}\\t{p2.raise_amt}\")"
   ]
  },
  {
   "cell_type": "markdown",
   "metadata": {},
   "source": [
    "<hr style=\"border:dotted 1px\"><br>\n",
    "<a id=\"_static_methods\"></a>\n",
    "\n",
    "### <span style=\"color:#c58fff\">Static Methods</span> [<span style=\"color:#6185c9;font-size:10px\">(*Home*)</span>](#_classes_2)\n",
    "Function that is part of the Class but is not dependent on the Class or instance of the Class. They work very similar to just regular functions. They are used for attributes that have a logical relationship with the Class or instance but is not dependent them to create the expression. "
   ]
  },
  {
   "cell_type": "code",
   "execution_count": 31,
   "metadata": {},
   "outputs": [
    {
     "name": "stdout",
     "output_type": "stream",
     "text": [
      "First\t\tLast\t\tDOB\t\tPay\tRaise amt.\tCurrent Date\n",
      "Patrick\t\tWeatherford\t10/18/1989\t20000\t1.1\t\t2021-12-17\n",
      "Leigha\t\tWeatherford\t10/04/1989\t30000\t1.1\t\t2021-12-17\n"
     ]
    }
   ],
   "source": [
    "from datetime import datetime\n",
    "from datetime import date\n",
    "\n",
    "nl = '\\n'\n",
    "\n",
    "# create name for class\n",
    "class Person:\n",
    "    \n",
    "    raise_amt = 1.05\n",
    "    \n",
    "    # class instance creation blueprint\n",
    "    def __init__(self, first, last, dob_str, pay):\n",
    "        self.first = first\n",
    "        self.last = last\n",
    "        self.dob_str = dob_str\n",
    "        self.pay = pay\n",
    "        \n",
    "        \n",
    "### !!STATIC METHOD CREATION BELOW!! ##########################\n",
    "    \n",
    "    # Modifying Class variable\n",
    "    @staticmethod\n",
    "    def cur_date():\n",
    "        return date.today()\n",
    "    \n",
    "################################################################\n",
    "\n",
    "\n",
    "print(f\"First\\t\\tLast\\t\\tDOB\\t\\tPay\\tRaise amt.\\tCurrent Date\")\n",
    "print(f\"{p1.first}\\t\\t{p1.last}\\t{p1.dob_str}\\t{p1.pay}\\t{p1.raise_amt}\\t\\t{Person.cur_date()}\")\n",
    "print(f\"{p2.first}\\t\\t{p2.last}\\t{p2.dob_str}\\t{p2.pay}\\t{p2.raise_amt}\\t\\t{Person.cur_date()}\")"
   ]
  },
  {
   "cell_type": "markdown",
   "metadata": {},
   "source": [
    "<hr style=\"border:dotted 1px\"><br>\n",
    "<a id=\"_property_decorators\"></a>\n",
    "\n",
    "### <span style=\"color:#c58fff\">Property Decorators</span> [<span style=\"color:#6185c9;font-size:10px\">(*Home*)</span>](#_classes_2)\n",
    "\n",
    "YouTube video with explanation: [<span style=\"color:#6185c9\">Property Decorators</span>](https://www.youtube.com/watch?v=jCzT9XFZ5bw)"
   ]
  },
  {
   "cell_type": "markdown",
   "metadata": {},
   "source": [
    "\n",
    "<a id=\"_@property\"></a>\n",
    "\n",
    "#### <span style=\"color:white\">@property</span> [<span style=\"color:#6185c9;font-size:10px\">(*Home*)</span>](#_classes_2)\n",
    "\n",
    "Allows us to define a method that is accessed like an attribute (aka no parentheses)."
   ]
  },
  {
   "cell_type": "code",
   "execution_count": 32,
   "metadata": {},
   "outputs": [
    {
     "name": "stdout",
     "output_type": "stream",
     "text": [
      "Patrick Weatherford\n",
      "Patrick Weatherford\n",
      "Patrick Weatherford\n"
     ]
    }
   ],
   "source": [
    "# create name for class\n",
    "class Person:\n",
    "    \n",
    "    raise_amt = 1.05\n",
    "    \n",
    "    # class instance creation blueprint\n",
    "    def __init__(self, first, last):\n",
    "        self.first = first\n",
    "        self.last = last\n",
    "        self.full_name = f\"{self.first} {self.last}\"\n",
    "        \n",
    "    \n",
    "    # creating a regular method for full name. It will be accessed like a mthod\n",
    "    def full_name2(self):\n",
    "        return f\"{self.first} {self.last}\"\n",
    "    \n",
    "    \n",
    "    # creating a property which is a method but is accessed like an attribute\n",
    "    @property\n",
    "    def full_name3(self):\n",
    "        return f\"{self.first} {self.last}\"\n",
    "        \n",
    "p1 = Person('Patrick', 'Weatherford')\n",
    "\n",
    "print(p1.full_name)  # attribute of the object\n",
    "print(p1.full_name2())  # regular method call\n",
    "print(p1.full_name3)  # property which is a method accessed like an attribute"
   ]
  },
  {
   "cell_type": "markdown",
   "metadata": {},
   "source": [
    "<br>\n",
    "<a id=\"_@property.setter\"></a>\n",
    "\n",
    "#### <span style=\"color:white\">@property.setter</span> [<span style=\"color:#6185c9;font-size:10px\">(*Home*)</span>](#_classes_2)\n",
    "\n",
    "Used to dynamically update other attributes and/or properties for an object based on the value set for a specific attribute or property."
   ]
  },
  {
   "cell_type": "code",
   "execution_count": 54,
   "metadata": {},
   "outputs": [
    {
     "name": "stdout",
     "output_type": "stream",
     "text": [
      "Patrick\n",
      "Weatherford\n",
      "Patrick Weatherford\n",
      "\n",
      "Leigha\n",
      "Minton\n",
      "Leigha Minton\n",
      "\n",
      "\n"
     ]
    }
   ],
   "source": [
    "# create name for class\n",
    "class Person:\n",
    "    \n",
    "    raise_amt = 1.05\n",
    "    \n",
    "    # class instance creation blueprint\n",
    "    def __init__(self, first, last):\n",
    "        self.first = first\n",
    "        self.last = last\n",
    "        \n",
    "    # creating a property which is a method but is accessed like an attribute\n",
    "    @property\n",
    "    def full_name(self):\n",
    "        return f\"{self.first} {self.last}\"\n",
    "    \n",
    "    \n",
    "    # creating the setter which, based on the value for the full_name property set, will update other attributes for the object\n",
    "    @full_name.setter\n",
    "    def full_name(self, name):\n",
    "        first, last = name.split(' ')\n",
    "        self.first = first\n",
    "        self.last = last\n",
    "        \n",
    "\n",
    "# creating object which has a property of full_name = Patrick Weatherford\n",
    "p1 = Person('Patrick', 'Weatherford')\n",
    "print(f\"{p1.first}\\n{p1.last}\\n{p1.full_name}\\n\")\n",
    "\n",
    "\n",
    "# execute setter on full_name to change first, last, and full_name for the object\n",
    "p1.full_name = 'Leigha Minton'\n",
    "print(f\"{p1.first}\\n{p1.last}\\n{p1.full_name}\\n\\n\")\n",
    "    "
   ]
  },
  {
   "cell_type": "markdown",
   "metadata": {},
   "source": [
    "<br>\n",
    "<a id=\"_@property.deleter\"></a>\n",
    "\n",
    "#### <span style=\"color:white\">@property.deleter</span> [<span style=\"color:#6185c9;font-size:10px\">(*Home*)</span>](#_classes_2)\n",
    "\n",
    "Used to dynamically remove other attributes and/or properties for an object based on the value set for a specific attribute or property."
   ]
  },
  {
   "cell_type": "code",
   "execution_count": 55,
   "metadata": {},
   "outputs": [
    {
     "name": "stdout",
     "output_type": "stream",
     "text": [
      "Patrick\n",
      "Weatherford\n",
      "Patrick Weatherford\n",
      "\n",
      "None\n",
      "None\n",
      "None None\n",
      "\n",
      "\n"
     ]
    }
   ],
   "source": [
    "# create name for class\n",
    "class Person:\n",
    "    \n",
    "    raise_amt = 1.05\n",
    "    \n",
    "    # class instance creation blueprint\n",
    "    def __init__(self, first, last):\n",
    "        self.first = first\n",
    "        self.last = last\n",
    "        \n",
    "    # creating a property which is a method but is accessed like an attribute\n",
    "    @property\n",
    "    def full_name(self):\n",
    "        return f\"{self.first} {self.last}\"\n",
    "    \n",
    "    \n",
    "    # creating the deleter which will delete other attributes for the object\n",
    "    @full_name.deleter\n",
    "    def full_name(self):\n",
    "        self.first = None\n",
    "        self.last = None\n",
    "        \n",
    "\n",
    "# creating object which has a property of full_name = Patrick Weatherford\n",
    "p1 = Person('Patrick', 'Weatherford')\n",
    "print(f\"{p1.first}\\n{p1.last}\\n{p1.full_name}\\n\")\n",
    "\n",
    "\n",
    "# execute deleter on full_name to remove first, last, and full_name for the object\n",
    "del p1.full_name\n",
    "print(f\"{p1.first}\\n{p1.last}\\n{p1.full_name}\\n\\n\")"
   ]
  },
  {
   "cell_type": "markdown",
   "metadata": {},
   "source": [
    "<hr style=\"border:dotted 1px\"><br>\n",
    "<a id=\"_inheritance_&_subclasses\"></a>\n",
    "\n",
    "### <span style=\"color:#c58fff\">Inheritance & Subclasses</span> [<span style=\"color:#6185c9;font-size:10px\">(*Home*)</span>](#_classes_2)"
   ]
  },
  {
   "cell_type": "code",
   "execution_count": 40,
   "metadata": {},
   "outputs": [
    {
     "name": "stdout",
     "output_type": "stream",
     "text": [
      "First\t\tLast\t\tDOB\t\tPay\tRaise amt.\tTitle\n",
      "Patrick\t\tWeatherford\t10/18/1989\t20000\t1.05\t\t['BI Developer', 'Super Dad']\n",
      "Leigha\t\tWeatherford\t10/04/1989\t30000\t1.05\t\t['Loan Officer Asst.', 'Super Mom']\n"
     ]
    }
   ],
   "source": [
    "class Person:\n",
    "    \n",
    "    raise_amt = 1.00\n",
    "    \n",
    "    # class instance creation blueprint\n",
    "    def __init__(self, first, last, dob_str):\n",
    "        self.first = first\n",
    "        self.last = last\n",
    "        self.dob_str = dob_str\n",
    "        \n",
    "        \n",
    "class Job(Person):\n",
    "    \n",
    "    raise_amt = 1.05    \n",
    "    \n",
    "    def __init__(self, first, last, dob_str, pay=None, title=None):\n",
    "        super().__init__(first, last, dob_str)\n",
    "        self.pay = int(pay)\n",
    "        self.title = title\n",
    "        \n",
    "\n",
    "p1 = Job('Patrick', 'Weatherford', '10/18/1989', '20000', ['BI Developer', 'Super Dad'])\n",
    "p2 = Job('Leigha', 'Weatherford', '10/04/1989', '30000', ['Loan Officer Asst.', 'Super Mom'])\n",
    "\n",
    "\n",
    "print(f\"First\\t\\tLast\\t\\tDOB\\t\\tPay\\tRaise amt.\\tTitle\")\n",
    "print(f\"{p1.first}\\t\\t{p1.last}\\t{p1.dob_str}\\t{p1.pay}\\t{p1.raise_amt}\\t\\t{p1.title}\")\n",
    "print(f\"{p2.first}\\t\\t{p2.last}\\t{p2.dob_str}\\t{p2.pay}\\t{p2.raise_amt}\\t\\t{p2.title}\")"
   ]
  },
  {
   "cell_type": "markdown",
   "metadata": {},
   "source": [
    "<hr style=\"border:dotted 1px\"><br>\n",
    "<a id=\"_method_resolution_order\"></a>\n",
    "\n",
    "### <span style=\"color:#c58fff\">Method Resolution Order (MRO)</span> [<span style=\"color:#6185c9;font-size:10px\">(*Home*)</span>](#_classes_2)\n",
    "\n",
    "Good YouTube video explaining MRO: <a id=\"https://www.youtube.com/watch?v=7XXR3s_fYU8\"><span style=\"color:#6185c9\">MRO YouTube Video</span></a>"
   ]
  },
  {
   "cell_type": "code",
   "execution_count": 51,
   "metadata": {},
   "outputs": [
    {
     "name": "stdout",
     "output_type": "stream",
     "text": [
      "A.count() = 1\n",
      "B.count() = 1\n",
      "C.count() = 4\n",
      "C2.count() = 10\n",
      "D.count() = 1\n",
      "\n",
      "\n",
      "MRO for Class D:\n",
      "------------------------------\n",
      "MRO#\tClass/Object\n",
      "1: \t<class '__main__.D'>\n",
      "2: \t<class '__main__.A'>\n",
      "3: \t<class '__main__.C2'>\n",
      "4: \t<class 'object'>\n"
     ]
    }
   ],
   "source": [
    "class A:\n",
    "    def count():\n",
    "        return 1\n",
    "    \n",
    "class B(A):\n",
    "    pass\n",
    "    \n",
    "class C(A):\n",
    "    def count():\n",
    "        return 4\n",
    "    \n",
    "class C2():\n",
    "    def count():\n",
    "        return 10\n",
    "\n",
    "class D(A,C2):\n",
    "    pass\n",
    "\n",
    "print(f\"A.count() = {A.count()}\")  # Class has count() method so will use the current class\n",
    "print(f\"B.count() = {B.count()}\")  # Class does not have count() method so will search for inherited class A next\n",
    "print(f\"C.count() = {C.count()}\")  # Class has count() method so will use the current class\n",
    "print(f\"C2.count() = {C2.count()}\")  # Class has count() method so will use the current class\n",
    "print(f\"D.count() = {D.count()}\")  # Class does not have count() method so will search for class A first since it is first in the parameter arguments, then class C2\n",
    "\n",
    "print('\\n')\n",
    "\n",
    "# To see the MRO for an object or class, simply use the mro method.\n",
    "sep = '-'\n",
    "print(f\"MRO for Class D:\\n{sep*30}\\nMRO#\\tClass/Object\")\n",
    "rank = 1\n",
    "for elem in D.__mro__:\n",
    "    print(f\"{rank}: \\t{elem}\")\n",
    "    rank += 1"
   ]
  },
  {
   "cell_type": "markdown",
   "metadata": {},
   "source": [
    "<hr style=\"border:dotted 1px\"><br>\n",
    "<a id=\"_creating_dataframe\"></a>\n",
    "\n",
    "### <span style=\"color:#c58fff\">Creating DataFrame</span> [<span style=\"color:#6185c9;font-size:10px\">(*Home*)</span>](#_pandas2)\n",
    "\n",
    "DataFrame is a 2-dimensional labeled data structure with columns of potentially different types. You can think of it like a spreadsheet or SQL table, or a dict of Series objects. It is generally the most commonly used pandas object."
   ]
  },
  {
   "cell_type": "code",
   "execution_count": 23,
   "metadata": {},
   "outputs": [],
   "source": [
    "import pandas as pd\n",
    "import pydataset\n",
    "import numpy as np"
   ]
  },
  {
   "cell_type": "markdown",
   "metadata": {},
   "source": [
    "<br><br>\n",
    "\n",
    "Creating DataFrame from Dictionary object"
   ]
  },
  {
   "cell_type": "code",
   "execution_count": 7,
   "metadata": {},
   "outputs": [
    {
     "data": {
      "text/html": [
       "<div>\n",
       "<style scoped>\n",
       "    .dataframe tbody tr th:only-of-type {\n",
       "        vertical-align: middle;\n",
       "    }\n",
       "\n",
       "    .dataframe tbody tr th {\n",
       "        vertical-align: top;\n",
       "    }\n",
       "\n",
       "    .dataframe thead th {\n",
       "        text-align: right;\n",
       "    }\n",
       "</style>\n",
       "<table border=\"1\" class=\"dataframe\">\n",
       "  <thead>\n",
       "    <tr style=\"text-align: right;\">\n",
       "      <th></th>\n",
       "      <th>FIRST_NAME</th>\n",
       "      <th>DOB_STR</th>\n",
       "    </tr>\n",
       "    <tr>\n",
       "      <th>ID</th>\n",
       "      <th></th>\n",
       "      <th></th>\n",
       "    </tr>\n",
       "  </thead>\n",
       "  <tbody>\n",
       "    <tr>\n",
       "      <th>1</th>\n",
       "      <td>Patrick</td>\n",
       "      <td>10/18/1989</td>\n",
       "    </tr>\n",
       "    <tr>\n",
       "      <th>2</th>\n",
       "      <td>Leigha</td>\n",
       "      <td>10/04/1989</td>\n",
       "    </tr>\n",
       "    <tr>\n",
       "      <th>3</th>\n",
       "      <td>Blake</td>\n",
       "      <td>03/15/2021</td>\n",
       "    </tr>\n",
       "    <tr>\n",
       "      <th>4</th>\n",
       "      <td>Pepper</td>\n",
       "      <td>11/1/2021</td>\n",
       "    </tr>\n",
       "    <tr>\n",
       "      <th>5</th>\n",
       "      <td>Gizmo</td>\n",
       "      <td>8/1/2018</td>\n",
       "    </tr>\n",
       "  </tbody>\n",
       "</table>\n",
       "</div>"
      ],
      "text/plain": [
       "   FIRST_NAME     DOB_STR\n",
       "ID                       \n",
       "1     Patrick  10/18/1989\n",
       "2      Leigha  10/04/1989\n",
       "3       Blake  03/15/2021\n",
       "4      Pepper   11/1/2021\n",
       "5       Gizmo    8/1/2018"
      ]
     },
     "execution_count": 7,
     "metadata": {},
     "output_type": "execute_result"
    }
   ],
   "source": [
    "\n",
    "df_dict = {\n",
    "    'ID':[1,2,3,4,5]\n",
    "    , 'FIRST_NAME':['Patrick','Leigha','Blake','Pepper','Gizmo']\n",
    "    , 'DOB_STR':['10/18/1989','10/04/1989','03/15/2021','11/1/2021','8/1/2018']\n",
    "}\n",
    "\n",
    "# Creating DataFrame out of dictionary and setting ID column as index during the process.\n",
    "df = pd.DataFrame(df_dict).set_index('ID')\n",
    "\n",
    "df"
   ]
  },
  {
   "cell_type": "markdown",
   "metadata": {},
   "source": [
    "<br><br>\n",
    "\n",
    "Creating date range index and randome values DataFrame with Pandas"
   ]
  },
  {
   "cell_type": "code",
   "execution_count": 22,
   "metadata": {},
   "outputs": [
    {
     "data": {
      "text/plain": [
       "DatetimeIndex(['2022-01-01', '2022-01-02', '2022-01-03', '2022-01-04',\n",
       "               '2022-01-05', '2022-01-06'],\n",
       "              dtype='datetime64[ns]', freq='D')"
      ]
     },
     "execution_count": 22,
     "metadata": {},
     "output_type": "execute_result"
    }
   ],
   "source": [
    "date_index = pd.date_range('20220101', periods=6, freq='D')\n",
    "\n",
    "date_index"
   ]
  },
  {
   "cell_type": "code",
   "execution_count": 24,
   "metadata": {},
   "outputs": [
    {
     "data": {
      "text/html": [
       "<div>\n",
       "<style scoped>\n",
       "    .dataframe tbody tr th:only-of-type {\n",
       "        vertical-align: middle;\n",
       "    }\n",
       "\n",
       "    .dataframe tbody tr th {\n",
       "        vertical-align: top;\n",
       "    }\n",
       "\n",
       "    .dataframe thead th {\n",
       "        text-align: right;\n",
       "    }\n",
       "</style>\n",
       "<table border=\"1\" class=\"dataframe\">\n",
       "  <thead>\n",
       "    <tr style=\"text-align: right;\">\n",
       "      <th></th>\n",
       "      <th>A</th>\n",
       "      <th>B</th>\n",
       "      <th>C</th>\n",
       "      <th>D</th>\n",
       "    </tr>\n",
       "  </thead>\n",
       "  <tbody>\n",
       "    <tr>\n",
       "      <th>2022-01-01</th>\n",
       "      <td>-1.125655</td>\n",
       "      <td>0.145105</td>\n",
       "      <td>2.165252</td>\n",
       "      <td>-3.527838</td>\n",
       "    </tr>\n",
       "    <tr>\n",
       "      <th>2022-01-02</th>\n",
       "      <td>-1.101482</td>\n",
       "      <td>0.330960</td>\n",
       "      <td>0.279809</td>\n",
       "      <td>-1.987861</td>\n",
       "    </tr>\n",
       "    <tr>\n",
       "      <th>2022-01-03</th>\n",
       "      <td>0.736393</td>\n",
       "      <td>0.064913</td>\n",
       "      <td>1.279867</td>\n",
       "      <td>0.919546</td>\n",
       "    </tr>\n",
       "    <tr>\n",
       "      <th>2022-01-04</th>\n",
       "      <td>-0.054560</td>\n",
       "      <td>-0.106697</td>\n",
       "      <td>-1.284672</td>\n",
       "      <td>-0.151294</td>\n",
       "    </tr>\n",
       "    <tr>\n",
       "      <th>2022-01-05</th>\n",
       "      <td>-0.340155</td>\n",
       "      <td>0.174428</td>\n",
       "      <td>-0.004678</td>\n",
       "      <td>0.500782</td>\n",
       "    </tr>\n",
       "    <tr>\n",
       "      <th>2022-01-06</th>\n",
       "      <td>0.099430</td>\n",
       "      <td>-0.030759</td>\n",
       "      <td>-2.043988</td>\n",
       "      <td>0.979989</td>\n",
       "    </tr>\n",
       "  </tbody>\n",
       "</table>\n",
       "</div>"
      ],
      "text/plain": [
       "                   A         B         C         D\n",
       "2022-01-01 -1.125655  0.145105  2.165252 -3.527838\n",
       "2022-01-02 -1.101482  0.330960  0.279809 -1.987861\n",
       "2022-01-03  0.736393  0.064913  1.279867  0.919546\n",
       "2022-01-04 -0.054560 -0.106697 -1.284672 -0.151294\n",
       "2022-01-05 -0.340155  0.174428 -0.004678  0.500782\n",
       "2022-01-06  0.099430 -0.030759 -2.043988  0.979989"
      ]
     },
     "execution_count": 24,
     "metadata": {},
     "output_type": "execute_result"
    }
   ],
   "source": [
    "df = pd.DataFrame(np.random.randn(6, 4), index=date_index, columns=list(\"ABCD\"))\n",
    "\n",
    "df"
   ]
  },
  {
   "cell_type": "markdown",
   "metadata": {},
   "source": [
    "<br><br>\n",
    "\n",
    "Viewing DataFrame index using the .index attribute."
   ]
  },
  {
   "cell_type": "code",
   "execution_count": 25,
   "metadata": {},
   "outputs": [
    {
     "data": {
      "text/plain": [
       "DatetimeIndex(['2022-01-01', '2022-01-02', '2022-01-03', '2022-01-04',\n",
       "               '2022-01-05', '2022-01-06'],\n",
       "              dtype='datetime64[ns]', freq='D')"
      ]
     },
     "execution_count": 25,
     "metadata": {},
     "output_type": "execute_result"
    }
   ],
   "source": [
    "df.index"
   ]
  },
  {
   "cell_type": "markdown",
   "metadata": {},
   "source": [
    "<br><br>\n",
    "\n",
    "Creating DataFrame from existing DataSet"
   ]
  },
  {
   "cell_type": "code",
   "execution_count": 15,
   "metadata": {},
   "outputs": [
    {
     "data": {
      "text/html": [
       "<div>\n",
       "<style scoped>\n",
       "    .dataframe tbody tr th:only-of-type {\n",
       "        vertical-align: middle;\n",
       "    }\n",
       "\n",
       "    .dataframe tbody tr th {\n",
       "        vertical-align: top;\n",
       "    }\n",
       "\n",
       "    .dataframe thead th {\n",
       "        text-align: right;\n",
       "    }\n",
       "</style>\n",
       "<table border=\"1\" class=\"dataframe\">\n",
       "  <thead>\n",
       "    <tr style=\"text-align: right;\">\n",
       "      <th></th>\n",
       "      <th>Sepal.Length</th>\n",
       "      <th>Sepal.Width</th>\n",
       "      <th>Petal.Length</th>\n",
       "      <th>Petal.Width</th>\n",
       "      <th>Species</th>\n",
       "    </tr>\n",
       "  </thead>\n",
       "  <tbody>\n",
       "    <tr>\n",
       "      <th>1</th>\n",
       "      <td>5.1</td>\n",
       "      <td>3.5</td>\n",
       "      <td>1.4</td>\n",
       "      <td>0.2</td>\n",
       "      <td>setosa</td>\n",
       "    </tr>\n",
       "    <tr>\n",
       "      <th>2</th>\n",
       "      <td>4.9</td>\n",
       "      <td>3.0</td>\n",
       "      <td>1.4</td>\n",
       "      <td>0.2</td>\n",
       "      <td>setosa</td>\n",
       "    </tr>\n",
       "    <tr>\n",
       "      <th>3</th>\n",
       "      <td>4.7</td>\n",
       "      <td>3.2</td>\n",
       "      <td>1.3</td>\n",
       "      <td>0.2</td>\n",
       "      <td>setosa</td>\n",
       "    </tr>\n",
       "    <tr>\n",
       "      <th>4</th>\n",
       "      <td>4.6</td>\n",
       "      <td>3.1</td>\n",
       "      <td>1.5</td>\n",
       "      <td>0.2</td>\n",
       "      <td>setosa</td>\n",
       "    </tr>\n",
       "    <tr>\n",
       "      <th>5</th>\n",
       "      <td>5.0</td>\n",
       "      <td>3.6</td>\n",
       "      <td>1.4</td>\n",
       "      <td>0.2</td>\n",
       "      <td>setosa</td>\n",
       "    </tr>\n",
       "  </tbody>\n",
       "</table>\n",
       "</div>"
      ],
      "text/plain": [
       "   Sepal.Length  Sepal.Width  Petal.Length  Petal.Width Species\n",
       "1           5.1          3.5           1.4          0.2  setosa\n",
       "2           4.9          3.0           1.4          0.2  setosa\n",
       "3           4.7          3.2           1.3          0.2  setosa\n",
       "4           4.6          3.1           1.5          0.2  setosa\n",
       "5           5.0          3.6           1.4          0.2  setosa"
      ]
     },
     "execution_count": 15,
     "metadata": {},
     "output_type": "execute_result"
    }
   ],
   "source": [
    "iris_df = pd.DataFrame(pydataset.data('iris'))\n",
    "\n",
    "iris_df.head()"
   ]
  },
  {
   "cell_type": "markdown",
   "metadata": {},
   "source": [
    "<br><br>\n",
    "\n",
    "Getting simple statistics for DataFrame using the .describe() method."
   ]
  },
  {
   "cell_type": "code",
   "execution_count": 26,
   "metadata": {},
   "outputs": [
    {
     "data": {
      "text/html": [
       "<div>\n",
       "<style scoped>\n",
       "    .dataframe tbody tr th:only-of-type {\n",
       "        vertical-align: middle;\n",
       "    }\n",
       "\n",
       "    .dataframe tbody tr th {\n",
       "        vertical-align: top;\n",
       "    }\n",
       "\n",
       "    .dataframe thead th {\n",
       "        text-align: right;\n",
       "    }\n",
       "</style>\n",
       "<table border=\"1\" class=\"dataframe\">\n",
       "  <thead>\n",
       "    <tr style=\"text-align: right;\">\n",
       "      <th></th>\n",
       "      <th>A</th>\n",
       "      <th>B</th>\n",
       "      <th>C</th>\n",
       "      <th>D</th>\n",
       "    </tr>\n",
       "  </thead>\n",
       "  <tbody>\n",
       "    <tr>\n",
       "      <th>count</th>\n",
       "      <td>6.000000</td>\n",
       "      <td>6.000000</td>\n",
       "      <td>6.000000</td>\n",
       "      <td>6.000000</td>\n",
       "    </tr>\n",
       "    <tr>\n",
       "      <th>mean</th>\n",
       "      <td>-0.297672</td>\n",
       "      <td>0.096325</td>\n",
       "      <td>0.065265</td>\n",
       "      <td>-0.544446</td>\n",
       "    </tr>\n",
       "    <tr>\n",
       "      <th>std</th>\n",
       "      <td>0.723817</td>\n",
       "      <td>0.156133</td>\n",
       "      <td>1.562524</td>\n",
       "      <td>1.827475</td>\n",
       "    </tr>\n",
       "    <tr>\n",
       "      <th>min</th>\n",
       "      <td>-1.125655</td>\n",
       "      <td>-0.106697</td>\n",
       "      <td>-2.043988</td>\n",
       "      <td>-3.527838</td>\n",
       "    </tr>\n",
       "    <tr>\n",
       "      <th>25%</th>\n",
       "      <td>-0.911150</td>\n",
       "      <td>-0.006841</td>\n",
       "      <td>-0.964674</td>\n",
       "      <td>-1.528719</td>\n",
       "    </tr>\n",
       "    <tr>\n",
       "      <th>50%</th>\n",
       "      <td>-0.197358</td>\n",
       "      <td>0.105009</td>\n",
       "      <td>0.137566</td>\n",
       "      <td>0.174744</td>\n",
       "    </tr>\n",
       "    <tr>\n",
       "      <th>75%</th>\n",
       "      <td>0.060932</td>\n",
       "      <td>0.167097</td>\n",
       "      <td>1.029852</td>\n",
       "      <td>0.814855</td>\n",
       "    </tr>\n",
       "    <tr>\n",
       "      <th>max</th>\n",
       "      <td>0.736393</td>\n",
       "      <td>0.330960</td>\n",
       "      <td>2.165252</td>\n",
       "      <td>0.979989</td>\n",
       "    </tr>\n",
       "  </tbody>\n",
       "</table>\n",
       "</div>"
      ],
      "text/plain": [
       "              A         B         C         D\n",
       "count  6.000000  6.000000  6.000000  6.000000\n",
       "mean  -0.297672  0.096325  0.065265 -0.544446\n",
       "std    0.723817  0.156133  1.562524  1.827475\n",
       "min   -1.125655 -0.106697 -2.043988 -3.527838\n",
       "25%   -0.911150 -0.006841 -0.964674 -1.528719\n",
       "50%   -0.197358  0.105009  0.137566  0.174744\n",
       "75%    0.060932  0.167097  1.029852  0.814855\n",
       "max    0.736393  0.330960  2.165252  0.979989"
      ]
     },
     "execution_count": 26,
     "metadata": {},
     "output_type": "execute_result"
    }
   ],
   "source": [
    "df.describe()"
   ]
  },
  {
   "cell_type": "markdown",
   "metadata": {},
   "source": [
    "<hr style=\"border:dotted 1px\"><br>\n",
    "<a id=\"_manipulating_dataframe\"></a>\n",
    "\n",
    "### <span style=\"color:#c58fff\">Manipulating DataFrame</span> [<span style=\"color:#6185c9;font-size:10px\">(*Home*)</span>](#_pandas2)"
   ]
  },
  {
   "cell_type": "markdown",
   "metadata": {},
   "source": [
    "<br>\n",
    "\n",
    "Loading Iris Data Set"
   ]
  },
  {
   "cell_type": "code",
   "execution_count": 28,
   "metadata": {},
   "outputs": [
    {
     "data": {
      "text/html": [
       "<div>\n",
       "<style scoped>\n",
       "    .dataframe tbody tr th:only-of-type {\n",
       "        vertical-align: middle;\n",
       "    }\n",
       "\n",
       "    .dataframe tbody tr th {\n",
       "        vertical-align: top;\n",
       "    }\n",
       "\n",
       "    .dataframe thead th {\n",
       "        text-align: right;\n",
       "    }\n",
       "</style>\n",
       "<table border=\"1\" class=\"dataframe\">\n",
       "  <thead>\n",
       "    <tr style=\"text-align: right;\">\n",
       "      <th></th>\n",
       "      <th>Sepal.Length</th>\n",
       "      <th>Sepal.Width</th>\n",
       "      <th>Petal.Length</th>\n",
       "      <th>Petal.Width</th>\n",
       "      <th>Species</th>\n",
       "    </tr>\n",
       "  </thead>\n",
       "  <tbody>\n",
       "    <tr>\n",
       "      <th>1</th>\n",
       "      <td>5.1</td>\n",
       "      <td>3.5</td>\n",
       "      <td>1.4</td>\n",
       "      <td>0.2</td>\n",
       "      <td>setosa</td>\n",
       "    </tr>\n",
       "    <tr>\n",
       "      <th>2</th>\n",
       "      <td>4.9</td>\n",
       "      <td>3.0</td>\n",
       "      <td>1.4</td>\n",
       "      <td>0.2</td>\n",
       "      <td>setosa</td>\n",
       "    </tr>\n",
       "    <tr>\n",
       "      <th>3</th>\n",
       "      <td>4.7</td>\n",
       "      <td>3.2</td>\n",
       "      <td>1.3</td>\n",
       "      <td>0.2</td>\n",
       "      <td>setosa</td>\n",
       "    </tr>\n",
       "    <tr>\n",
       "      <th>4</th>\n",
       "      <td>4.6</td>\n",
       "      <td>3.1</td>\n",
       "      <td>1.5</td>\n",
       "      <td>0.2</td>\n",
       "      <td>setosa</td>\n",
       "    </tr>\n",
       "    <tr>\n",
       "      <th>5</th>\n",
       "      <td>5.0</td>\n",
       "      <td>3.6</td>\n",
       "      <td>1.4</td>\n",
       "      <td>0.2</td>\n",
       "      <td>setosa</td>\n",
       "    </tr>\n",
       "  </tbody>\n",
       "</table>\n",
       "</div>"
      ],
      "text/plain": [
       "   Sepal.Length  Sepal.Width  Petal.Length  Petal.Width Species\n",
       "1           5.1          3.5           1.4          0.2  setosa\n",
       "2           4.9          3.0           1.4          0.2  setosa\n",
       "3           4.7          3.2           1.3          0.2  setosa\n",
       "4           4.6          3.1           1.5          0.2  setosa\n",
       "5           5.0          3.6           1.4          0.2  setosa"
      ]
     },
     "execution_count": 28,
     "metadata": {},
     "output_type": "execute_result"
    }
   ],
   "source": [
    "iris_df = pd.DataFrame(pydataset.data('iris'))\n",
    "\n",
    "iris_df.head()"
   ]
  },
  {
   "cell_type": "markdown",
   "metadata": {},
   "source": [
    "<br><a id=\"_selecting_data_pd\"></a>\n",
    "\n",
    "#### <span style=\"color:white\">Selecting Data</span> [<span style=\"color:#6185c9;font-size:10px\">(*Home*)</span>](#_pandas2)"
   ]
  },
  {
   "cell_type": "markdown",
   "metadata": {},
   "source": [
    "<br>\n",
    "\n",
    "Putting column(s) within double brackets [[*col_names*]] will select columns as a DataFrame."
   ]
  },
  {
   "cell_type": "code",
   "execution_count": 44,
   "metadata": {},
   "outputs": [
    {
     "data": {
      "text/html": [
       "<div>\n",
       "<style scoped>\n",
       "    .dataframe tbody tr th:only-of-type {\n",
       "        vertical-align: middle;\n",
       "    }\n",
       "\n",
       "    .dataframe tbody tr th {\n",
       "        vertical-align: top;\n",
       "    }\n",
       "\n",
       "    .dataframe thead th {\n",
       "        text-align: right;\n",
       "    }\n",
       "</style>\n",
       "<table border=\"1\" class=\"dataframe\">\n",
       "  <thead>\n",
       "    <tr style=\"text-align: right;\">\n",
       "      <th></th>\n",
       "      <th>Species</th>\n",
       "      <th>Petal.Length</th>\n",
       "    </tr>\n",
       "  </thead>\n",
       "  <tbody>\n",
       "    <tr>\n",
       "      <th>1</th>\n",
       "      <td>setosa</td>\n",
       "      <td>1.4</td>\n",
       "    </tr>\n",
       "    <tr>\n",
       "      <th>2</th>\n",
       "      <td>setosa</td>\n",
       "      <td>1.4</td>\n",
       "    </tr>\n",
       "    <tr>\n",
       "      <th>3</th>\n",
       "      <td>setosa</td>\n",
       "      <td>1.3</td>\n",
       "    </tr>\n",
       "    <tr>\n",
       "      <th>4</th>\n",
       "      <td>setosa</td>\n",
       "      <td>1.5</td>\n",
       "    </tr>\n",
       "    <tr>\n",
       "      <th>5</th>\n",
       "      <td>setosa</td>\n",
       "      <td>1.4</td>\n",
       "    </tr>\n",
       "  </tbody>\n",
       "</table>\n",
       "</div>"
      ],
      "text/plain": [
       "  Species  Petal.Length\n",
       "1  setosa           1.4\n",
       "2  setosa           1.4\n",
       "3  setosa           1.3\n",
       "4  setosa           1.5\n",
       "5  setosa           1.4"
      ]
     },
     "execution_count": 44,
     "metadata": {},
     "output_type": "execute_result"
    }
   ],
   "source": [
    "iris_df[['Species', 'Petal.Length']].head()"
   ]
  },
  {
   "cell_type": "markdown",
   "metadata": {},
   "source": [
    "<br>\n",
    "\n",
    "Putting single column name in single brackets [*col_name*] will create a series."
   ]
  },
  {
   "cell_type": "code",
   "execution_count": 35,
   "metadata": {},
   "outputs": [
    {
     "data": {
      "text/plain": [
       "1    setosa\n",
       "2    setosa\n",
       "3    setosa\n",
       "4    setosa\n",
       "5    setosa\n",
       "Name: Species, dtype: object"
      ]
     },
     "execution_count": 35,
     "metadata": {},
     "output_type": "execute_result"
    }
   ],
   "source": [
    "iris_df['Species'].head()"
   ]
  },
  {
   "cell_type": "markdown",
   "metadata": {},
   "source": [
    "<br>\n",
    "\n",
    "Putting index range in single brackets [*index_range*] will slice by row index number."
   ]
  },
  {
   "cell_type": "code",
   "execution_count": 42,
   "metadata": {},
   "outputs": [
    {
     "data": {
      "text/html": [
       "<div>\n",
       "<style scoped>\n",
       "    .dataframe tbody tr th:only-of-type {\n",
       "        vertical-align: middle;\n",
       "    }\n",
       "\n",
       "    .dataframe tbody tr th {\n",
       "        vertical-align: top;\n",
       "    }\n",
       "\n",
       "    .dataframe thead th {\n",
       "        text-align: right;\n",
       "    }\n",
       "</style>\n",
       "<table border=\"1\" class=\"dataframe\">\n",
       "  <thead>\n",
       "    <tr style=\"text-align: right;\">\n",
       "      <th></th>\n",
       "      <th>Sepal.Length</th>\n",
       "      <th>Sepal.Width</th>\n",
       "      <th>Petal.Length</th>\n",
       "      <th>Petal.Width</th>\n",
       "      <th>Species</th>\n",
       "    </tr>\n",
       "  </thead>\n",
       "  <tbody>\n",
       "    <tr>\n",
       "      <th>1</th>\n",
       "      <td>5.1</td>\n",
       "      <td>3.5</td>\n",
       "      <td>1.4</td>\n",
       "      <td>0.2</td>\n",
       "      <td>setosa</td>\n",
       "    </tr>\n",
       "    <tr>\n",
       "      <th>2</th>\n",
       "      <td>4.9</td>\n",
       "      <td>3.0</td>\n",
       "      <td>1.4</td>\n",
       "      <td>0.2</td>\n",
       "      <td>setosa</td>\n",
       "    </tr>\n",
       "    <tr>\n",
       "      <th>3</th>\n",
       "      <td>4.7</td>\n",
       "      <td>3.2</td>\n",
       "      <td>1.3</td>\n",
       "      <td>0.2</td>\n",
       "      <td>setosa</td>\n",
       "    </tr>\n",
       "    <tr>\n",
       "      <th>4</th>\n",
       "      <td>4.6</td>\n",
       "      <td>3.1</td>\n",
       "      <td>1.5</td>\n",
       "      <td>0.2</td>\n",
       "      <td>setosa</td>\n",
       "    </tr>\n",
       "    <tr>\n",
       "      <th>5</th>\n",
       "      <td>5.0</td>\n",
       "      <td>3.6</td>\n",
       "      <td>1.4</td>\n",
       "      <td>0.2</td>\n",
       "      <td>setosa</td>\n",
       "    </tr>\n",
       "  </tbody>\n",
       "</table>\n",
       "</div>"
      ],
      "text/plain": [
       "   Sepal.Length  Sepal.Width  Petal.Length  Petal.Width Species\n",
       "1           5.1          3.5           1.4          0.2  setosa\n",
       "2           4.9          3.0           1.4          0.2  setosa\n",
       "3           4.7          3.2           1.3          0.2  setosa\n",
       "4           4.6          3.1           1.5          0.2  setosa\n",
       "5           5.0          3.6           1.4          0.2  setosa"
      ]
     },
     "execution_count": 42,
     "metadata": {},
     "output_type": "execute_result"
    }
   ],
   "source": [
    "iris_df[0:5]"
   ]
  },
  {
   "cell_type": "markdown",
   "metadata": {},
   "source": [
    "<br><br>\n",
    "\n",
    "Selecting row(s) by label using .loc[ *label* ]. Selecting single row will output a cross-section of the row. Selecting multiple rows will output a DataFrame."
   ]
  },
  {
   "cell_type": "code",
   "execution_count": 69,
   "metadata": {},
   "outputs": [
    {
     "data": {
      "text/html": [
       "<div>\n",
       "<style scoped>\n",
       "    .dataframe tbody tr th:only-of-type {\n",
       "        vertical-align: middle;\n",
       "    }\n",
       "\n",
       "    .dataframe tbody tr th {\n",
       "        vertical-align: top;\n",
       "    }\n",
       "\n",
       "    .dataframe thead th {\n",
       "        text-align: right;\n",
       "    }\n",
       "</style>\n",
       "<table border=\"1\" class=\"dataframe\">\n",
       "  <thead>\n",
       "    <tr style=\"text-align: right;\">\n",
       "      <th></th>\n",
       "      <th>Sepal.Length</th>\n",
       "      <th>Sepal.Width</th>\n",
       "      <th>Petal.Length</th>\n",
       "      <th>Petal.Width</th>\n",
       "      <th>Species</th>\n",
       "    </tr>\n",
       "  </thead>\n",
       "  <tbody>\n",
       "    <tr>\n",
       "      <th>1</th>\n",
       "      <td>5.1</td>\n",
       "      <td>3.5</td>\n",
       "      <td>1.4</td>\n",
       "      <td>0.2</td>\n",
       "      <td>setosa</td>\n",
       "    </tr>\n",
       "    <tr>\n",
       "      <th>2</th>\n",
       "      <td>4.9</td>\n",
       "      <td>3.0</td>\n",
       "      <td>1.4</td>\n",
       "      <td>0.2</td>\n",
       "      <td>setosa</td>\n",
       "    </tr>\n",
       "  </tbody>\n",
       "</table>\n",
       "</div>"
      ],
      "text/plain": [
       "   Sepal.Length  Sepal.Width  Petal.Length  Petal.Width Species\n",
       "1           5.1          3.5           1.4          0.2  setosa\n",
       "2           4.9          3.0           1.4          0.2  setosa"
      ]
     },
     "execution_count": 69,
     "metadata": {},
     "output_type": "execute_result"
    }
   ],
   "source": [
    "# DataFrame\n",
    "# !! Advise !! Index labels are a list of numbers which starts at 1. (not to be confused with the index starting at 0)\n",
    "iris_df.loc[1:2]  "
   ]
  },
  {
   "cell_type": "code",
   "execution_count": 70,
   "metadata": {},
   "outputs": [
    {
     "data": {
      "text/plain": [
       "Sepal.Length       5.1\n",
       "Sepal.Width        3.5\n",
       "Petal.Length       1.4\n",
       "Petal.Width        0.2\n",
       "Species         setosa\n",
       "Name: 1, dtype: object"
      ]
     },
     "execution_count": 70,
     "metadata": {},
     "output_type": "execute_result"
    }
   ],
   "source": [
    "# Cross-Section of row\n",
    "# !! Advise !! Index labels are a list of numbers which starts at 1. (not to be confused with the index starting at 0)\n",
    "iris_df.loc[1] "
   ]
  },
  {
   "cell_type": "markdown",
   "metadata": {},
   "source": [
    "<br>\n",
    "\n",
    "Selecting rows & columns by label using .loc[ *label* ]."
   ]
  },
  {
   "cell_type": "code",
   "execution_count": 55,
   "metadata": {},
   "outputs": [
    {
     "data": {
      "text/html": [
       "<div>\n",
       "<style scoped>\n",
       "    .dataframe tbody tr th:only-of-type {\n",
       "        vertical-align: middle;\n",
       "    }\n",
       "\n",
       "    .dataframe tbody tr th {\n",
       "        vertical-align: top;\n",
       "    }\n",
       "\n",
       "    .dataframe thead th {\n",
       "        text-align: right;\n",
       "    }\n",
       "</style>\n",
       "<table border=\"1\" class=\"dataframe\">\n",
       "  <thead>\n",
       "    <tr style=\"text-align: right;\">\n",
       "      <th></th>\n",
       "      <th>Species</th>\n",
       "      <th>Petal.Width</th>\n",
       "    </tr>\n",
       "  </thead>\n",
       "  <tbody>\n",
       "    <tr>\n",
       "      <th>1</th>\n",
       "      <td>setosa</td>\n",
       "      <td>0.2</td>\n",
       "    </tr>\n",
       "    <tr>\n",
       "      <th>2</th>\n",
       "      <td>setosa</td>\n",
       "      <td>0.2</td>\n",
       "    </tr>\n",
       "    <tr>\n",
       "      <th>3</th>\n",
       "      <td>setosa</td>\n",
       "      <td>0.2</td>\n",
       "    </tr>\n",
       "  </tbody>\n",
       "</table>\n",
       "</div>"
      ],
      "text/plain": [
       "  Species  Petal.Width\n",
       "1  setosa          0.2\n",
       "2  setosa          0.2\n",
       "3  setosa          0.2"
      ]
     },
     "execution_count": 55,
     "metadata": {},
     "output_type": "execute_result"
    }
   ],
   "source": [
    "iris_df.loc[1:3,['Species', 'Petal.Width']]"
   ]
  },
  {
   "cell_type": "markdown",
   "metadata": {},
   "source": [
    "For getting scalar (single) value, use .at[ *label* ] for performance boost but you can also use .loc[ *label* ] as well."
   ]
  },
  {
   "cell_type": "code",
   "execution_count": 59,
   "metadata": {},
   "outputs": [
    {
     "data": {
      "text/plain": [
       "3.5"
      ]
     },
     "execution_count": 59,
     "metadata": {},
     "output_type": "execute_result"
    }
   ],
   "source": [
    "# Best method (fastest)!\n",
    "iris_df.at[1, 'Sepal.Width']"
   ]
  },
  {
   "cell_type": "code",
   "execution_count": 60,
   "metadata": {},
   "outputs": [
    {
     "data": {
      "text/plain": [
       "3.5"
      ]
     },
     "execution_count": 60,
     "metadata": {},
     "output_type": "execute_result"
    }
   ],
   "source": [
    "# Can also use .loc[]\n",
    "iris_df.loc[1, 'Sepal.Width']"
   ]
  },
  {
   "cell_type": "markdown",
   "metadata": {},
   "source": [
    "<br><br>\n",
    "\n",
    "Selecting row(s) by index position using .iloc[ *index_pos* ]. Selecting single row will output a cross-section of the row. Selecting multiple rows will output a DataFrame."
   ]
  },
  {
   "cell_type": "code",
   "execution_count": 73,
   "metadata": {},
   "outputs": [
    {
     "data": {
      "text/plain": [
       "Sepal.Length       5.1\n",
       "Sepal.Width        3.5\n",
       "Petal.Length       1.4\n",
       "Petal.Width        0.2\n",
       "Species         setosa\n",
       "Name: 1, dtype: object"
      ]
     },
     "execution_count": 73,
     "metadata": {},
     "output_type": "execute_result"
    }
   ],
   "source": [
    "# Cross-section output since single row selected\n",
    "iris_df.iloc[0]"
   ]
  },
  {
   "cell_type": "code",
   "execution_count": 72,
   "metadata": {},
   "outputs": [
    {
     "data": {
      "text/html": [
       "<div>\n",
       "<style scoped>\n",
       "    .dataframe tbody tr th:only-of-type {\n",
       "        vertical-align: middle;\n",
       "    }\n",
       "\n",
       "    .dataframe tbody tr th {\n",
       "        vertical-align: top;\n",
       "    }\n",
       "\n",
       "    .dataframe thead th {\n",
       "        text-align: right;\n",
       "    }\n",
       "</style>\n",
       "<table border=\"1\" class=\"dataframe\">\n",
       "  <thead>\n",
       "    <tr style=\"text-align: right;\">\n",
       "      <th></th>\n",
       "      <th>Sepal.Length</th>\n",
       "      <th>Sepal.Width</th>\n",
       "      <th>Petal.Length</th>\n",
       "      <th>Petal.Width</th>\n",
       "      <th>Species</th>\n",
       "    </tr>\n",
       "  </thead>\n",
       "  <tbody>\n",
       "    <tr>\n",
       "      <th>1</th>\n",
       "      <td>5.1</td>\n",
       "      <td>3.5</td>\n",
       "      <td>1.4</td>\n",
       "      <td>0.2</td>\n",
       "      <td>setosa</td>\n",
       "    </tr>\n",
       "    <tr>\n",
       "      <th>2</th>\n",
       "      <td>4.9</td>\n",
       "      <td>3.0</td>\n",
       "      <td>1.4</td>\n",
       "      <td>0.2</td>\n",
       "      <td>setosa</td>\n",
       "    </tr>\n",
       "    <tr>\n",
       "      <th>3</th>\n",
       "      <td>4.7</td>\n",
       "      <td>3.2</td>\n",
       "      <td>1.3</td>\n",
       "      <td>0.2</td>\n",
       "      <td>setosa</td>\n",
       "    </tr>\n",
       "  </tbody>\n",
       "</table>\n",
       "</div>"
      ],
      "text/plain": [
       "   Sepal.Length  Sepal.Width  Petal.Length  Petal.Width Species\n",
       "1           5.1          3.5           1.4          0.2  setosa\n",
       "2           4.9          3.0           1.4          0.2  setosa\n",
       "3           4.7          3.2           1.3          0.2  setosa"
      ]
     },
     "execution_count": 72,
     "metadata": {},
     "output_type": "execute_result"
    }
   ],
   "source": [
    "# DataFrame output since multiple rows selected.\n",
    "iris_df.iloc[0:3]"
   ]
  },
  {
   "cell_type": "markdown",
   "metadata": {},
   "source": [
    "<br><br>\n",
    "\n",
    "Selecting rows/columns by position using .iloc[ *index_pos* ]."
   ]
  },
  {
   "cell_type": "code",
   "execution_count": 76,
   "metadata": {},
   "outputs": [
    {
     "data": {
      "text/html": [
       "<div>\n",
       "<style scoped>\n",
       "    .dataframe tbody tr th:only-of-type {\n",
       "        vertical-align: middle;\n",
       "    }\n",
       "\n",
       "    .dataframe tbody tr th {\n",
       "        vertical-align: top;\n",
       "    }\n",
       "\n",
       "    .dataframe thead th {\n",
       "        text-align: right;\n",
       "    }\n",
       "</style>\n",
       "<table border=\"1\" class=\"dataframe\">\n",
       "  <thead>\n",
       "    <tr style=\"text-align: right;\">\n",
       "      <th></th>\n",
       "      <th>Petal.Width</th>\n",
       "      <th>Species</th>\n",
       "    </tr>\n",
       "  </thead>\n",
       "  <tbody>\n",
       "    <tr>\n",
       "      <th>1</th>\n",
       "      <td>0.2</td>\n",
       "      <td>setosa</td>\n",
       "    </tr>\n",
       "    <tr>\n",
       "      <th>2</th>\n",
       "      <td>0.2</td>\n",
       "      <td>setosa</td>\n",
       "    </tr>\n",
       "    <tr>\n",
       "      <th>3</th>\n",
       "      <td>0.2</td>\n",
       "      <td>setosa</td>\n",
       "    </tr>\n",
       "  </tbody>\n",
       "</table>\n",
       "</div>"
      ],
      "text/plain": [
       "   Petal.Width Species\n",
       "1          0.2  setosa\n",
       "2          0.2  setosa\n",
       "3          0.2  setosa"
      ]
     },
     "execution_count": 76,
     "metadata": {},
     "output_type": "execute_result"
    }
   ],
   "source": [
    "iris_df.iloc[0:3, 3:5]"
   ]
  },
  {
   "cell_type": "markdown",
   "metadata": {},
   "source": [
    "For getting scalar (single) value, use .iat[ *label* ] for performance boost but you can also use .iloc[ *label* ] as well."
   ]
  },
  {
   "cell_type": "code",
   "execution_count": 79,
   "metadata": {},
   "outputs": [
    {
     "data": {
      "text/plain": [
       "5.1"
      ]
     },
     "execution_count": 79,
     "metadata": {},
     "output_type": "execute_result"
    }
   ],
   "source": [
    "# Best method (fastest)!\n",
    "iris_df.iat[0,0]"
   ]
  },
  {
   "cell_type": "code",
   "execution_count": 80,
   "metadata": {},
   "outputs": [
    {
     "data": {
      "text/plain": [
       "5.1"
      ]
     },
     "execution_count": 80,
     "metadata": {},
     "output_type": "execute_result"
    }
   ],
   "source": [
    "# Can also use .iloc[]\n",
    "iris_df.iloc[0,0]"
   ]
  }
 ],
 "metadata": {
  "kernelspec": {
   "display_name": "Python 3",
   "language": "python",
   "name": "python3"
  },
  "language_info": {
   "codemirror_mode": {
    "name": "ipython",
    "version": 3
   },
   "file_extension": ".py",
   "mimetype": "text/x-python",
   "name": "python",
   "nbconvert_exporter": "python",
   "pygments_lexer": "ipython3",
   "version": "3.8.5"
  },
  "toc-autonumbering": false,
  "toc-showcode": false,
  "toc-showmarkdowntxt": false,
  "toc-showtags": false
 },
 "nbformat": 4,
 "nbformat_minor": 4
}
